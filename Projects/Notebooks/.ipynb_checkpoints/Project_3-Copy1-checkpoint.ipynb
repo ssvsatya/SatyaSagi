{
 "cells": [
  {
   "cell_type": "markdown",
   "metadata": {},
   "source": [
    "# Getting started\n",
    "\n",
    "Once you've chosen your scenario, download the data from [the Iowa website](https://data.iowa.gov/Economy/Iowa-Liquor-Sales/m3tr-qhgy) in csv format. Start by loading the data with pandas. You may need to parse the date columns appropriately."
   ]
  },
  {
   "cell_type": "code",
   "execution_count": 88,
   "metadata": {
    "collapsed": false
   },
   "outputs": [],
   "source": [
    "import pandas as pd\n",
    "import numpy as np\n",
    "import math\n",
    "import matplotlib.pyplot as plt\n",
    "import matplotlib\n",
    "plt.rcParams['figure.figsize'] = 10, 10\n",
    "%matplotlib inline\n",
    "\n",
    "matplotlib.style.use('ggplot')\n",
    "## Load the data into a DataFrame\n",
    "df = pd.read_csv(\"../assets/Iowa_Liquor_sales_sample_10pct.csv\")"
   ]
  },
  {
   "cell_type": "code",
   "execution_count": 89,
   "metadata": {
    "collapsed": false
   },
   "outputs": [
    {
     "data": {
      "text/plain": [
       "Date                      object\n",
       "Store Number               int64\n",
       "City                      object\n",
       "Zip Code                  object\n",
       "County Number            float64\n",
       "County                    object\n",
       "Category                 float64\n",
       "Category Name             object\n",
       "Vendor Number              int64\n",
       "Item Number                int64\n",
       "Item Description          object\n",
       "Bottle Volume (ml)         int64\n",
       "State Bottle Cost         object\n",
       "State Bottle Retail       object\n",
       "Bottles Sold               int64\n",
       "Sale (Dollars)            object\n",
       "Volume Sold (Liters)     float64\n",
       "Volume Sold (Gallons)    float64\n",
       "dtype: object"
      ]
     },
     "execution_count": 89,
     "metadata": {},
     "output_type": "execute_result"
    }
   ],
   "source": [
    "df.dtypes"
   ]
  },
  {
   "cell_type": "code",
   "execution_count": 90,
   "metadata": {
    "collapsed": false
   },
   "outputs": [],
   "source": [
    "# do your parsing here\n",
    "\n",
    "def binMonthsToQuarters(month):\n",
    "    if( month > 9):\n",
    "        return 4\n",
    "    elif month > 6:\n",
    "        return 3\n",
    "    elif month > 3:\n",
    "        return 2\n",
    "    return 1\n",
    "\n",
    "columns = ['Store Number','Sale (Dollars)','Date']\n",
    "df = df[columns]\n",
    "df['Date'] = pd.to_datetime(df.Date, format=\"%m/%d/%Y\")\n",
    "df['Month'] = df.Date.apply( lambda date: date.month )\n",
    "df['Quarter'] = df.Month.apply(binMonthsToQuarters)\n",
    "df['Year'] = df.Date.apply( lambda date: date.year )\n",
    "df['Sale (Dollars)'] = df['Sale (Dollars)'].apply( lambda dollars: dollars.replace(\"$\",\"\") ).astype(float)"
   ]
  },
  {
   "cell_type": "code",
   "execution_count": null,
   "metadata": {
    "collapsed": true
   },
   "outputs": [],
   "source": []
  },
  {
   "cell_type": "code",
   "execution_count": 83,
   "metadata": {
    "collapsed": false
   },
   "outputs": [
    {
     "data": {
      "text/plain": [
       "Store Number               int64\n",
       "Sale (Dollars)           float64\n",
       "Date              datetime64[ns]\n",
       "Month                      int64\n",
       "Quarter                    int64\n",
       "dtype: object"
      ]
     },
     "execution_count": 83,
     "metadata": {},
     "output_type": "execute_result"
    }
   ],
   "source": [
    "df.dtypes"
   ]
  },
  {
   "cell_type": "code",
   "execution_count": 112,
   "metadata": {
    "collapsed": false
   },
   "outputs": [
    {
     "name": "stdout",
     "output_type": "stream",
     "text": [
      "True\n"
     ]
    }
   ],
   "source": [
    "def getTotalSales(group): return sum( group['Sale (Dollars)'] )\n",
    "\n",
    "dfGrpByStoreandQ = df.groupby(['Store Number','Quarter']).group_keys\n",
    "dfGrpByStoreandY = df.groupby(['Store Number','Year']).group_keys\n",
    "#totalSalesPerQuarter = dfGrpByStoreandQ.apply(getTotalSales)\n",
    "#totalYearsSalesByStore = dfGrpByStoreandY.apply(getTotalSales)\n",
    "\n",
    "#totalSalesQ1 = filter(lambda (storeNumber,quarter): quarter == 1, totalSalesPerQuarter.keys())\n",
    "\n",
    "print dfGrpByStoreandQ\n",
    "\n",
    "#print totalYearsSalesByStore\n",
    "#print len( totalSalesPerQuarter )\n",
    "#print len( totalYearsSalesByStore )\n",
    "\n",
    "\n",
    "#print( type(salesByQuarterAndStore) )\n",
    "\n",
    "#print salesByQuarterAndStore[0]\n",
    "\n",
    "#dfSort = df.sort_values(by = ['Date', 'Store Number', 'City', 'Zip Code', 'County', 'Category'])\n",
    "#dfSort.dropna(inplace=True)\n",
    "#dfSort.dropna(subset=['County Number', 'County','Category', 'Category Name'], inplace=True)\n",
    "#dfSort['County Number'] = dfSort['County Number'].astype(int)\n",
    "#dfSort['Category'] = dfSort['Category'].astype(int)\n",
    "#df1 = dfSort[dfSort['Date'] <= '2015-12-31']\n",
    "#df1"
   ]
  },
  {
   "cell_type": "code",
   "execution_count": 6,
   "metadata": {
    "collapsed": false
   },
   "outputs": [
    {
     "data": {
      "text/plain": [
       "Date                     218348\n",
       "Store Number             218348\n",
       "City                     218348\n",
       "Zip Code                 218348\n",
       "County Number            218348\n",
       "County                   218348\n",
       "Category                 218348\n",
       "Category Name            218348\n",
       "Vendor Number            218348\n",
       "Item Number              218348\n",
       "Item Description         218348\n",
       "Bottle Volume (ml)       218348\n",
       "State Bottle Cost        218348\n",
       "State Bottle Retail      218348\n",
       "Bottles Sold             218348\n",
       "Sale (Dollars)           218348\n",
       "Volume Sold (Liters)     218348\n",
       "Volume Sold (Gallons)    218348\n",
       "dtype: int64"
      ]
     },
     "execution_count": 6,
     "metadata": {},
     "output_type": "execute_result"
    }
   ],
   "source": [
    "df1.count()"
   ]
  },
  {
   "cell_type": "code",
   "execution_count": 7,
   "metadata": {
    "collapsed": false
   },
   "outputs": [
    {
     "name": "stdout",
     "output_type": "stream",
     "text": [
      "218348 18\n"
     ]
    }
   ],
   "source": [
    "rows, cols = df1.shape\n",
    "print rows, cols\n"
   ]
  },
  {
   "cell_type": "code",
   "execution_count": 8,
   "metadata": {
    "collapsed": false
   },
   "outputs": [
    {
     "data": {
      "text/html": [
       "<div>\n",
       "<table border=\"1\" class=\"dataframe\">\n",
       "  <thead>\n",
       "    <tr style=\"text-align: right;\">\n",
       "      <th></th>\n",
       "      <th>County</th>\n",
       "      <th>Category Name</th>\n",
       "    </tr>\n",
       "  </thead>\n",
       "  <tbody>\n",
       "    <tr>\n",
       "      <th>14630</th>\n",
       "      <td>Polk</td>\n",
       "      <td>CANADIAN WHISKIES</td>\n",
       "    </tr>\n",
       "    <tr>\n",
       "      <th>32161</th>\n",
       "      <td>Polk</td>\n",
       "      <td>CANADIAN WHISKIES</td>\n",
       "    </tr>\n",
       "    <tr>\n",
       "      <th>62326</th>\n",
       "      <td>Polk</td>\n",
       "      <td>CANADIAN WHISKIES</td>\n",
       "    </tr>\n",
       "    <tr>\n",
       "      <th>178555</th>\n",
       "      <td>Polk</td>\n",
       "      <td>CANADIAN WHISKIES</td>\n",
       "    </tr>\n",
       "    <tr>\n",
       "      <th>52214</th>\n",
       "      <td>Polk</td>\n",
       "      <td>SCOTCH WHISKIES</td>\n",
       "    </tr>\n",
       "    <tr>\n",
       "      <th>56837</th>\n",
       "      <td>Polk</td>\n",
       "      <td>SCOTCH WHISKIES</td>\n",
       "    </tr>\n",
       "    <tr>\n",
       "      <th>68874</th>\n",
       "      <td>Polk</td>\n",
       "      <td>SCOTCH WHISKIES</td>\n",
       "    </tr>\n",
       "    <tr>\n",
       "      <th>91697</th>\n",
       "      <td>Polk</td>\n",
       "      <td>TEQUILA</td>\n",
       "    </tr>\n",
       "    <tr>\n",
       "      <th>105908</th>\n",
       "      <td>Polk</td>\n",
       "      <td>TEQUILA</td>\n",
       "    </tr>\n",
       "    <tr>\n",
       "      <th>199135</th>\n",
       "      <td>Polk</td>\n",
       "      <td>VODKA 80 PROOF</td>\n",
       "    </tr>\n",
       "  </tbody>\n",
       "</table>\n",
       "</div>"
      ],
      "text/plain": [
       "       County      Category Name\n",
       "14630    Polk  CANADIAN WHISKIES\n",
       "32161    Polk  CANADIAN WHISKIES\n",
       "62326    Polk  CANADIAN WHISKIES\n",
       "178555   Polk  CANADIAN WHISKIES\n",
       "52214    Polk    SCOTCH WHISKIES\n",
       "56837    Polk    SCOTCH WHISKIES\n",
       "68874    Polk    SCOTCH WHISKIES\n",
       "91697    Polk            TEQUILA\n",
       "105908   Polk            TEQUILA\n",
       "199135   Polk     VODKA 80 PROOF"
      ]
     },
     "execution_count": 8,
     "metadata": {},
     "output_type": "execute_result"
    }
   ],
   "source": [
    "features = [\"County\", 'Category Name']\n",
    "df1_features = df1[features]\n",
    "df1_features.head(10)"
   ]
  },
  {
   "cell_type": "code",
   "execution_count": 38,
   "metadata": {
    "collapsed": false
   },
   "outputs": [
    {
     "name": "stdout",
     "output_type": "stream",
     "text": [
      "             Date  Store Number            City Zip Code  County Number  \\\n",
      "14630  2015-01-05          2190      DES MOINES    50314             77   \n",
      "32161  2015-01-05          2190      DES MOINES    50314             77   \n",
      "62326  2015-01-05          2190      DES MOINES    50314             77   \n",
      "178555 2015-01-05          2190      DES MOINES    50314             77   \n",
      "52214  2015-01-05          2190      DES MOINES    50314             77   \n",
      "117682 2015-01-05          2191          KEOKUK    52632             56   \n",
      "120400 2015-01-05          2191          KEOKUK    52632             56   \n",
      "6373   2015-01-05          2191          KEOKUK    52632             56   \n",
      "51552  2015-01-05          2191          KEOKUK    52632             56   \n",
      "103869 2015-01-05          2191          KEOKUK    52632             56   \n",
      "23773  2015-01-05          2448       INDIANOLA    50125             91   \n",
      "206190 2015-01-05          2448       INDIANOLA    50125             91   \n",
      "33683  2015-01-05          2448       INDIANOLA    50125             91   \n",
      "22440  2015-01-05          2448       INDIANOLA    50125             91   \n",
      "136410 2015-01-05          2448       INDIANOLA    50125             91   \n",
      "71112  2015-01-05          2459  GUTHRIE CENTER    50115             39   \n",
      "113725 2015-01-05          2459  GUTHRIE CENTER    50115             39   \n",
      "129970 2015-01-05          2459  GUTHRIE CENTER    50115             39   \n",
      "161991 2015-01-05          2459  GUTHRIE CENTER    50115             39   \n",
      "118146 2015-01-05          2459  GUTHRIE CENTER    50115             39   \n",
      "167720 2015-01-05          2460         HAMPTON    50441             35   \n",
      "217688 2015-01-05          2460         HAMPTON    50441             35   \n",
      "60856  2015-01-05          2460         HAMPTON    50441             35   \n",
      "130492 2015-01-05          2460         HAMPTON    50441             35   \n",
      "162192 2015-01-05          2460         HAMPTON    50441             35   \n",
      "131336 2015-01-05          2478         ALTOONA    50009             77   \n",
      "69614  2015-01-05          2478         ALTOONA    50009             77   \n",
      "33873  2015-01-05          2487         ANAMOSA    52205             53   \n",
      "64392  2015-01-05          2487         ANAMOSA    52205             53   \n",
      "251208 2015-01-05          2487         ANAMOSA    52205             53   \n",
      "...           ...           ...             ...      ...            ...   \n",
      "214149 2015-12-09          5160         OTTUMWA    52501             90   \n",
      "197177 2015-12-09          5207    CEDAR RAPIDS    52404             57   \n",
      "35828  2015-12-09          5207    CEDAR RAPIDS    52404             57   \n",
      "211192 2015-12-09          5207    CEDAR RAPIDS    52404             57   \n",
      "258699 2015-12-09          5207    CEDAR RAPIDS    52404             57   \n",
      "46934  2015-12-09          5207    CEDAR RAPIDS    52404             57   \n",
      "21958  2015-12-10          5203     COON RAPIDS    50058             14   \n",
      "166721 2015-12-10          5203     COON RAPIDS    50058             14   \n",
      "98286  2015-12-14          5206   GRUNDY CENTER    50638             38   \n",
      "209836 2015-12-14          5206   GRUNDY CENTER    50638             38   \n",
      "10175  2015-12-14          5206   GRUNDY CENTER    50638             38   \n",
      "19931  2015-12-14          5206   GRUNDY CENTER    50638             38   \n",
      "215263 2015-12-14          5206   GRUNDY CENTER    50638             38   \n",
      "87207  2015-12-15          5192          ROBINS    52328             57   \n",
      "203561 2015-12-16          4610           FONDA    50540             76   \n",
      "123776 2015-12-17          5205         GLIDDEN    51443             14   \n",
      "97459  2015-12-18          5212      MASON CITY    50401             17   \n",
      "18281  2015-12-18          5212      MASON CITY    50401             17   \n",
      "47459  2015-12-18          5212      MASON CITY    50401             17   \n",
      "207428 2015-12-18          5212      MASON CITY    50401             17   \n",
      "93824  2015-12-18          5212      MASON CITY    50401             17   \n",
      "118    2015-12-22          5193       LOHRVILLE    51453             13   \n",
      "13767  2015-12-22          5193       LOHRVILLE    51453             13   \n",
      "98742  2015-12-22          5193       LOHRVILLE    51453             13   \n",
      "54229  2015-12-26          5213        MONTROSE    52639             56   \n",
      "3800   2015-12-28          4497           ALDEN    50006             42   \n",
      "251942 2015-12-28          4716         SPENCER    51301             21   \n",
      "116352 2015-12-28          4716         SPENCER    51301             21   \n",
      "145064 2015-12-30          5215       LE CLAIRE    52753             82   \n",
      "254763 2015-12-30          5215       LE CLAIRE    52753             82   \n",
      "\n",
      "             County  Category                       Category Name  \\\n",
      "14630          Polk   1012100                   CANADIAN WHISKIES   \n",
      "32161          Polk   1012100                   CANADIAN WHISKIES   \n",
      "62326          Polk   1012100                   CANADIAN WHISKIES   \n",
      "178555         Polk   1012100                   CANADIAN WHISKIES   \n",
      "52214          Polk   1012200                     SCOTCH WHISKIES   \n",
      "117682          Lee   1011100                    BLENDED WHISKIES   \n",
      "120400          Lee   1011500               STRAIGHT RYE WHISKIES   \n",
      "6373            Lee   1012100                   CANADIAN WHISKIES   \n",
      "51552           Lee   1012100                   CANADIAN WHISKIES   \n",
      "103869          Lee   1022100                             TEQUILA   \n",
      "23773        Warren   1011100                    BLENDED WHISKIES   \n",
      "206190       Warren   1011100                    BLENDED WHISKIES   \n",
      "33683        Warren   1012300                      IRISH WHISKIES   \n",
      "22440        Warren   1022100                             TEQUILA   \n",
      "136410       Warren   1031080                      VODKA 80 PROOF   \n",
      "71112       Guthrie   1011100                    BLENDED WHISKIES   \n",
      "113725      Guthrie   1011100                    BLENDED WHISKIES   \n",
      "129970      Guthrie   1012200                     SCOTCH WHISKIES   \n",
      "161991      Guthrie   1012200                     SCOTCH WHISKIES   \n",
      "118146      Guthrie   1031080                      VODKA 80 PROOF   \n",
      "167720     Franklin   1011200           STRAIGHT BOURBON WHISKIES   \n",
      "217688     Franklin   1012100                   CANADIAN WHISKIES   \n",
      "60856      Franklin   1022100                             TEQUILA   \n",
      "130492     Franklin   1031080                      VODKA 80 PROOF   \n",
      "162192     Franklin   1031080                      VODKA 80 PROOF   \n",
      "131336         Polk   1011300                  TENNESSEE WHISKIES   \n",
      "69614          Polk   1081400                          TRIPLE SEC   \n",
      "33873         Jones   1012100                   CANADIAN WHISKIES   \n",
      "64392         Jones   1012100                   CANADIAN WHISKIES   \n",
      "251208        Jones   1012100                   CANADIAN WHISKIES   \n",
      "...             ...       ...                                 ...   \n",
      "214149      Wapello   1012100                   CANADIAN WHISKIES   \n",
      "197177         Linn   1031080                      VODKA 80 PROOF   \n",
      "35828          Linn   1031200                      VODKA FLAVORED   \n",
      "211192         Linn   1032080                      IMPORTED VODKA   \n",
      "258699         Linn   1032080                      IMPORTED VODKA   \n",
      "46934          Linn   1032200               IMPORTED VODKA - MISC   \n",
      "21958       Carroll   1011200           STRAIGHT BOURBON WHISKIES   \n",
      "166721      Carroll   1022100                             TEQUILA   \n",
      "98286        Grundy   1011200           STRAIGHT BOURBON WHISKIES   \n",
      "209836       Grundy   1062310                          SPICED RUM   \n",
      "10175        Grundy   1081330                      PEACH SCHNAPPS   \n",
      "19931        Grundy   1081390                   IMPORTED SCHNAPPS   \n",
      "215263       Grundy   1082900  MISC. IMPORTED CORDIALS & LIQUEURS   \n",
      "87207          Linn   1081900  MISC. AMERICAN CORDIALS & LIQUEURS   \n",
      "203561   Pocahontas   1031080                      VODKA 80 PROOF   \n",
      "123776      Carroll   1071100                  AMERICAN COCKTAILS   \n",
      "97459   Cerro Gordo   1012300                      IRISH WHISKIES   \n",
      "18281   Cerro Gordo   1031080                      VODKA 80 PROOF   \n",
      "47459   Cerro Gordo   1031080                      VODKA 80 PROOF   \n",
      "207428  Cerro Gordo   1031080                      VODKA 80 PROOF   \n",
      "93824   Cerro Gordo   1052010             IMPORTED GRAPE BRANDIES   \n",
      "118         Calhoun   1011200           STRAIGHT BOURBON WHISKIES   \n",
      "13767       Calhoun   1031080                      VODKA 80 PROOF   \n",
      "98742       Calhoun   1062200    PUERTO RICO & VIRGIN ISLANDS RUM   \n",
      "54229           Lee   1062310                          SPICED RUM   \n",
      "3800         Hardin   1012100                   CANADIAN WHISKIES   \n",
      "251942         Clay   1012200                     SCOTCH WHISKIES   \n",
      "116352         Clay   1031080                      VODKA 80 PROOF   \n",
      "145064        Scott   1012100                   CANADIAN WHISKIES   \n",
      "254763        Scott   1012100                   CANADIAN WHISKIES   \n",
      "\n",
      "        Vendor Number  Item Number  \\\n",
      "14630             115        11771   \n",
      "32161             260        11294   \n",
      "62326             260        10805   \n",
      "178555            260        11296   \n",
      "52214             370         9426   \n",
      "117682            260        25607   \n",
      "120400            421        27100   \n",
      "6373              260        11297   \n",
      "51552              85        12467   \n",
      "103869            434        89387   \n",
      "23773             154        27629   \n",
      "206190             65        24466   \n",
      "33683              65        15739   \n",
      "22440             434        89387   \n",
      "136410            301        38177   \n",
      "71112              65        25878   \n",
      "113725            434        24158   \n",
      "129970            260        10006   \n",
      "161991             35         4866   \n",
      "118146             55        37934   \n",
      "167720             65        20247   \n",
      "217688            434        13038   \n",
      "60856             395        87510   \n",
      "130492            434        36307   \n",
      "162192             55        35944   \n",
      "131336             85        26827   \n",
      "69614             434        86251   \n",
      "33873             115        11777   \n",
      "64392              85        12478   \n",
      "251208            115        10555   \n",
      "...               ...          ...   \n",
      "214149            115        11788   \n",
      "197177            380        37348   \n",
      "35828             205        40191   \n",
      "211192            370        34001   \n",
      "258699            370        34008   \n",
      "46934             260        64571   \n",
      "21958              55        21598   \n",
      "166721            434        89386   \n",
      "98286              65        19064   \n",
      "209836            260        43336   \n",
      "10175              65        82846   \n",
      "19931             421        69636   \n",
      "215263            192        65254   \n",
      "87207             322        75211   \n",
      "203561            297        35918   \n",
      "123776            421        59037   \n",
      "97459             370        15644   \n",
      "18281             297        35918   \n",
      "47459             205        36969   \n",
      "207428            297        35916   \n",
      "93824             420        48105   \n",
      "118                65        19066   \n",
      "13767             260        37996   \n",
      "98742             434        45275   \n",
      "54229             260        43333   \n",
      "3800              115        11774   \n",
      "251942            260         5326   \n",
      "116352            434        36308   \n",
      "145064            260        10807   \n",
      "254763            260        11290   \n",
      "\n",
      "                                  Item Description  Bottle Volume (ml)  \\\n",
      "14630                            Black Velvet Mini                 600   \n",
      "32161                  Crown Royal Canadian Whisky                 375   \n",
      "62326                      Crown Royal Regal Apple                 375   \n",
      "178555                                 Crown Royal                 750   \n",
      "52214                              Passport Scotch                 750   \n",
      "117682                 Seagrams 7 Crown Bl Whiskey                1000   \n",
      "120400                                 Sazerac Rye                 750   \n",
      "6373                   Crown Royal Canadian Whisky                1000   \n",
      "51552                         Canadian Mist Whisky                1000   \n",
      "103869                         Juarez Tequila Gold                1000   \n",
      "23773                                 Prairie Fire                 750   \n",
      "206190              Kessler Blend Whiskey Traveler                 750   \n",
      "33683                                    2 Gingers                 750   \n",
      "22440                          Juarez Tequila Gold                1000   \n",
      "136410                        Titos Handmade Vodka                1000   \n",
      "71112                    Sunny Brook Blend Whiskey                1750   \n",
      "113725                       Hawkeye Blend Whiskey                1750   \n",
      "129970                        Scoresby Rare Scotch                 750   \n",
      "161991                   Dewars White Label Scotch                 750   \n",
      "118146                                  Skol Vodka                 375   \n",
      "167720                                    Old Crow                1000   \n",
      "217688                     Canadian Reserve Whisky                1750   \n",
      "60856                          1800 Silver Tequila                 750   \n",
      "130492                               Hawkeye Vodka                1000   \n",
      "162192                   Fleischmann's Royal Vodka                 375   \n",
      "131336               Jack Daniels Old #7 Black Lbl                1000   \n",
      "69614                            Juarez Triple Sec                1000   \n",
      "33873                                 Black Velvet                1000   \n",
      "64392               Canadian Mist Canadian Why Pet                1750   \n",
      "251208                Black Velvet Toasted Caramel                 375   \n",
      "...                                            ...                 ...   \n",
      "214149                                Black Velvet                1750   \n",
      "197177                              Phillips Vodka                1750   \n",
      "35828                      New Amsterdam Pineapple                 200   \n",
      "211192           Absolut Swedish Vodka 80 Prf Mini                 600   \n",
      "258699                Absolut Swedish Vodka 80 Prf                1750   \n",
      "46934                              Ciroc Pineapple                 200   \n",
      "21958                                     Ten High                1750   \n",
      "166721                         Juarez Tequila Gold                 750   \n",
      "98286                                     Jim Beam                 375   \n",
      "209836              Captain Morgan Original Spiced                 750   \n",
      "10175         Dekuyper Luscious Peachtree Schnapps                 750   \n",
      "19931           Dr. Mcgillicuddy's Cherry Schnapps                 750   \n",
      "215263                        Jagermeister Liqueur                 375   \n",
      "87207                                Kinky Liqueur                 750   \n",
      "203561                          Five O'clock Vodka                1750   \n",
      "123776  Desert Island Long Island Ice Tea Cocktail                1000   \n",
      "97459                                      Jameson                 375   \n",
      "18281                           Five O'clock Vodka                1750   \n",
      "47459                          New Amsterdam Vodka                 750   \n",
      "207428                          Five O'clock Vodka                 750   \n",
      "93824                                  Hennessy VS                 375   \n",
      "118                                       Jim Beam                 750   \n",
      "13767                        Smirnoff Vodka 80 Prf                 750   \n",
      "98742                 Paramount White Rum Traveler                 750   \n",
      "54229                Captain Morgan Spiced Rum Pet                 200   \n",
      "3800                                  Black Velvet                 375   \n",
      "251942                        Johnnie Walker Black                 750   \n",
      "116352                               Hawkeye Vodka                1750   \n",
      "145064                     Crown Royal Regal Apple                 750   \n",
      "254763            Crown Royal Canadian Whisky Mini                 300   \n",
      "\n",
      "       State Bottle Cost State Bottle Retail  Bottles Sold Sale (Dollars)  \\\n",
      "14630              $6.80              $10.20             1         $10.20   \n",
      "32161              $7.75              $11.63             2         $23.26   \n",
      "62326              $7.75              $11.63             1         $11.63   \n",
      "178555            $15.00              $22.50            12        $270.00   \n",
      "52214              $6.99              $10.49             2         $20.98   \n",
      "117682             $8.00              $12.00            24        $288.00   \n",
      "120400            $16.94              $25.41             1         $25.41   \n",
      "6373              $18.50              $27.75            36        $999.00   \n",
      "51552              $6.71              $10.07            12        $120.84   \n",
      "103869             $6.92              $10.38            12        $124.56   \n",
      "23773              $9.17              $13.76             1         $13.76   \n",
      "206190             $5.51               $8.27             2         $16.54   \n",
      "33683             $12.07              $18.11             1         $18.11   \n",
      "22440              $6.92              $10.38             3         $31.14   \n",
      "136410            $11.92              $17.88             3         $53.64   \n",
      "71112              $7.87              $11.81             6         $70.86   \n",
      "113725             $7.62              $11.43             6         $68.58   \n",
      "129970             $5.50               $8.25             3         $24.75   \n",
      "161991            $13.73              $20.60             2         $41.20   \n",
      "118146             $1.74               $2.61             6         $15.66   \n",
      "167720             $4.98               $7.47             4         $29.88   \n",
      "217688             $9.00              $13.50            24        $324.00   \n",
      "60856             $15.46              $23.19             2         $46.38   \n",
      "130492             $4.05               $6.08            12         $72.96   \n",
      "162192             $1.74               $2.61            24         $62.64   \n",
      "131336            $17.90              $26.85            12        $322.20   \n",
      "69614              $2.42               $3.63            12         $43.56   \n",
      "33873              $6.63               $9.95            12        $119.40   \n",
      "64392             $10.50              $15.75             1         $15.75   \n",
      "251208             $3.07               $4.61             6         $27.66   \n",
      "...                  ...                 ...           ...            ...   \n",
      "214149             $9.70              $14.93             6         $89.58   \n",
      "197177             $7.60              $11.40             1         $11.40   \n",
      "35828              $2.24               $3.36            24         $80.64   \n",
      "211192             $7.92              $11.88             1         $11.88   \n",
      "258699            $19.99              $29.99             1         $29.99   \n",
      "46934              $5.00               $7.50            48        $360.00   \n",
      "21958              $9.24              $13.86             6         $83.16   \n",
      "166721             $6.50               $9.75             3         $29.25   \n",
      "98286              $4.98               $7.47             4         $29.88   \n",
      "209836             $9.00              $13.50             1         $13.50   \n",
      "10175              $6.30               $9.45             4         $37.80   \n",
      "19931              $8.67              $13.01             4         $52.04   \n",
      "215263             $6.52               $9.78             4         $39.12   \n",
      "87207             $10.00              $15.00             6         $90.00   \n",
      "203561             $7.20              $10.80             6         $64.80   \n",
      "123776             $3.86               $6.04             2         $12.08   \n",
      "97459              $6.74              $10.11             4         $40.44   \n",
      "18281              $7.20              $10.80             6         $64.80   \n",
      "47459              $6.90              $10.35             6         $62.10   \n",
      "207428             $3.37               $5.06            12         $60.72   \n",
      "93824              $9.99              $14.99             6         $89.94   \n",
      "118               $10.49              $15.74             3         $47.22   \n",
      "13767              $8.25              $12.38             6         $74.28   \n",
      "98742              $4.00               $6.00             3         $18.00   \n",
      "54229              $2.50               $3.75            48        $180.00   \n",
      "3800               $3.07               $4.61            24        $110.64   \n",
      "251942            $20.99              $31.49            12        $377.88   \n",
      "116352             $7.17              $10.76             6         $64.56   \n",
      "145064            $15.00              $22.50             2         $45.00   \n",
      "254763             $7.35              $11.03             1         $11.03   \n",
      "\n",
      "        Volume Sold (Liters)  Volume Sold (Gallons)  \n",
      "14630                   0.60                   0.16  \n",
      "32161                   0.75                   0.20  \n",
      "62326                   0.38                   0.10  \n",
      "178555                  9.00                   2.38  \n",
      "52214                   1.50                   0.40  \n",
      "117682                 24.00                   6.34  \n",
      "120400                  0.75                   0.20  \n",
      "6373                   36.00                   9.51  \n",
      "51552                  12.00                   3.17  \n",
      "103869                 12.00                   3.17  \n",
      "23773                   0.75                   0.20  \n",
      "206190                  1.50                   0.40  \n",
      "33683                   0.75                   0.20  \n",
      "22440                   3.00                   0.79  \n",
      "136410                  3.00                   0.79  \n",
      "71112                  10.50                   2.77  \n",
      "113725                 10.50                   2.77  \n",
      "129970                  2.25                   0.59  \n",
      "161991                  1.50                   0.40  \n",
      "118146                  2.25                   0.59  \n",
      "167720                  4.00                   1.06  \n",
      "217688                 42.00                  11.10  \n",
      "60856                   1.50                   0.40  \n",
      "130492                 12.00                   3.17  \n",
      "162192                  9.00                   2.38  \n",
      "131336                 12.00                   3.17  \n",
      "69614                  12.00                   3.17  \n",
      "33873                  12.00                   3.17  \n",
      "64392                   1.75                   0.46  \n",
      "251208                  2.25                   0.59  \n",
      "...                      ...                    ...  \n",
      "214149                 10.50                   2.77  \n",
      "197177                  1.75                   0.46  \n",
      "35828                   4.80                   1.27  \n",
      "211192                  0.60                   0.16  \n",
      "258699                  1.75                   0.46  \n",
      "46934                   9.60                   2.54  \n",
      "21958                  10.50                   2.77  \n",
      "166721                  2.25                   0.59  \n",
      "98286                   1.50                   0.40  \n",
      "209836                  0.75                   0.20  \n",
      "10175                   3.00                   0.79  \n",
      "19931                   3.00                   0.79  \n",
      "215263                  1.50                   0.40  \n",
      "87207                   4.50                   1.19  \n",
      "203561                 10.50                   2.77  \n",
      "123776                  2.00                   0.53  \n",
      "97459                   1.50                   0.40  \n",
      "18281                  10.50                   2.77  \n",
      "47459                   4.50                   1.19  \n",
      "207428                  9.00                   2.38  \n",
      "93824                   2.25                   0.59  \n",
      "118                     2.25                   0.59  \n",
      "13767                   4.50                   1.19  \n",
      "98742                   2.25                   0.59  \n",
      "54229                   9.60                   2.54  \n",
      "3800                    9.00                   2.38  \n",
      "251942                  9.00                   2.38  \n",
      "116352                 10.50                   2.77  \n",
      "145064                  1.50                   0.40  \n",
      "254763                  0.30                   0.08  \n",
      "\n",
      "[6811 rows x 18 columns]\n"
     ]
    }
   ],
   "source": [
    "df1Groupby = df1.groupby('Store Number')\n",
    "print df1Groupby.head()"
   ]
  },
  {
   "cell_type": "code",
   "execution_count": 22,
   "metadata": {
    "collapsed": false
   },
   "outputs": [
    {
     "data": {
      "text/html": [
       "<div>\n",
       "<table border=\"1\" class=\"dataframe\">\n",
       "  <thead>\n",
       "    <tr style=\"text-align: right;\">\n",
       "      <th></th>\n",
       "      <th>Store Number</th>\n",
       "      <th>County Number</th>\n",
       "      <th>Category</th>\n",
       "      <th>Vendor Number</th>\n",
       "      <th>Item Number</th>\n",
       "      <th>Bottle Volume (ml)</th>\n",
       "      <th>Bottles Sold</th>\n",
       "      <th>Volume Sold (Liters)</th>\n",
       "      <th>Volume Sold (Gallons)</th>\n",
       "    </tr>\n",
       "  </thead>\n",
       "  <tbody>\n",
       "    <tr>\n",
       "      <th>Store Number</th>\n",
       "      <td>1.000000</td>\n",
       "      <td>0.003386</td>\n",
       "      <td>-0.010438</td>\n",
       "      <td>-0.004586</td>\n",
       "      <td>-0.024843</td>\n",
       "      <td>-0.063402</td>\n",
       "      <td>0.014616</td>\n",
       "      <td>-0.017352</td>\n",
       "      <td>-0.017341</td>\n",
       "    </tr>\n",
       "    <tr>\n",
       "      <th>County Number</th>\n",
       "      <td>0.003386</td>\n",
       "      <td>1.000000</td>\n",
       "      <td>-0.005806</td>\n",
       "      <td>0.000660</td>\n",
       "      <td>0.006067</td>\n",
       "      <td>-0.026866</td>\n",
       "      <td>0.018226</td>\n",
       "      <td>0.010189</td>\n",
       "      <td>0.010199</td>\n",
       "    </tr>\n",
       "    <tr>\n",
       "      <th>Category</th>\n",
       "      <td>-0.010438</td>\n",
       "      <td>-0.005806</td>\n",
       "      <td>1.000000</td>\n",
       "      <td>0.086352</td>\n",
       "      <td>0.108762</td>\n",
       "      <td>-0.011405</td>\n",
       "      <td>0.000220</td>\n",
       "      <td>-0.004707</td>\n",
       "      <td>-0.004698</td>\n",
       "    </tr>\n",
       "    <tr>\n",
       "      <th>Vendor Number</th>\n",
       "      <td>-0.004586</td>\n",
       "      <td>0.000660</td>\n",
       "      <td>0.086352</td>\n",
       "      <td>1.000000</td>\n",
       "      <td>0.134533</td>\n",
       "      <td>0.025566</td>\n",
       "      <td>-0.004338</td>\n",
       "      <td>-0.008419</td>\n",
       "      <td>-0.008415</td>\n",
       "    </tr>\n",
       "    <tr>\n",
       "      <th>Item Number</th>\n",
       "      <td>-0.024843</td>\n",
       "      <td>0.006067</td>\n",
       "      <td>0.108762</td>\n",
       "      <td>0.134533</td>\n",
       "      <td>1.000000</td>\n",
       "      <td>-0.058497</td>\n",
       "      <td>-0.005976</td>\n",
       "      <td>-0.010245</td>\n",
       "      <td>-0.010236</td>\n",
       "    </tr>\n",
       "    <tr>\n",
       "      <th>Bottle Volume (ml)</th>\n",
       "      <td>-0.063402</td>\n",
       "      <td>-0.026866</td>\n",
       "      <td>-0.011405</td>\n",
       "      <td>0.025566</td>\n",
       "      <td>-0.058497</td>\n",
       "      <td>1.000000</td>\n",
       "      <td>-0.010194</td>\n",
       "      <td>0.156466</td>\n",
       "      <td>0.156301</td>\n",
       "    </tr>\n",
       "    <tr>\n",
       "      <th>Bottles Sold</th>\n",
       "      <td>0.014616</td>\n",
       "      <td>0.018226</td>\n",
       "      <td>0.000220</td>\n",
       "      <td>-0.004338</td>\n",
       "      <td>-0.005976</td>\n",
       "      <td>-0.010194</td>\n",
       "      <td>1.000000</td>\n",
       "      <td>0.881573</td>\n",
       "      <td>0.881603</td>\n",
       "    </tr>\n",
       "    <tr>\n",
       "      <th>Volume Sold (Liters)</th>\n",
       "      <td>-0.017352</td>\n",
       "      <td>0.010189</td>\n",
       "      <td>-0.004707</td>\n",
       "      <td>-0.008419</td>\n",
       "      <td>-0.010245</td>\n",
       "      <td>0.156466</td>\n",
       "      <td>0.881573</td>\n",
       "      <td>1.000000</td>\n",
       "      <td>1.000000</td>\n",
       "    </tr>\n",
       "    <tr>\n",
       "      <th>Volume Sold (Gallons)</th>\n",
       "      <td>-0.017341</td>\n",
       "      <td>0.010199</td>\n",
       "      <td>-0.004698</td>\n",
       "      <td>-0.008415</td>\n",
       "      <td>-0.010236</td>\n",
       "      <td>0.156301</td>\n",
       "      <td>0.881603</td>\n",
       "      <td>1.000000</td>\n",
       "      <td>1.000000</td>\n",
       "    </tr>\n",
       "  </tbody>\n",
       "</table>\n",
       "</div>"
      ],
      "text/plain": [
       "                       Store Number  County Number  Category  Vendor Number  \\\n",
       "Store Number               1.000000       0.003386 -0.010438      -0.004586   \n",
       "County Number              0.003386       1.000000 -0.005806       0.000660   \n",
       "Category                  -0.010438      -0.005806  1.000000       0.086352   \n",
       "Vendor Number             -0.004586       0.000660  0.086352       1.000000   \n",
       "Item Number               -0.024843       0.006067  0.108762       0.134533   \n",
       "Bottle Volume (ml)        -0.063402      -0.026866 -0.011405       0.025566   \n",
       "Bottles Sold               0.014616       0.018226  0.000220      -0.004338   \n",
       "Volume Sold (Liters)      -0.017352       0.010189 -0.004707      -0.008419   \n",
       "Volume Sold (Gallons)     -0.017341       0.010199 -0.004698      -0.008415   \n",
       "\n",
       "                       Item Number  Bottle Volume (ml)  Bottles Sold  \\\n",
       "Store Number             -0.024843           -0.063402      0.014616   \n",
       "County Number             0.006067           -0.026866      0.018226   \n",
       "Category                  0.108762           -0.011405      0.000220   \n",
       "Vendor Number             0.134533            0.025566     -0.004338   \n",
       "Item Number               1.000000           -0.058497     -0.005976   \n",
       "Bottle Volume (ml)       -0.058497            1.000000     -0.010194   \n",
       "Bottles Sold             -0.005976           -0.010194      1.000000   \n",
       "Volume Sold (Liters)     -0.010245            0.156466      0.881573   \n",
       "Volume Sold (Gallons)    -0.010236            0.156301      0.881603   \n",
       "\n",
       "                       Volume Sold (Liters)  Volume Sold (Gallons)  \n",
       "Store Number                      -0.017352              -0.017341  \n",
       "County Number                      0.010189               0.010199  \n",
       "Category                          -0.004707              -0.004698  \n",
       "Vendor Number                     -0.008419              -0.008415  \n",
       "Item Number                       -0.010245              -0.010236  \n",
       "Bottle Volume (ml)                 0.156466               0.156301  \n",
       "Bottles Sold                       0.881573               0.881603  \n",
       "Volume Sold (Liters)               1.000000               1.000000  \n",
       "Volume Sold (Gallons)              1.000000               1.000000  "
      ]
     },
     "execution_count": 22,
     "metadata": {},
     "output_type": "execute_result"
    }
   ],
   "source": [
    "df1.corr()"
   ]
  },
  {
   "cell_type": "markdown",
   "metadata": {},
   "source": [
    "# Explore the data\n",
    "\n",
    "Perform some exploratory statistical analysis and make some plots, such as histograms of transaction totals, bottles sold, etc."
   ]
  },
  {
   "cell_type": "code",
   "execution_count": 23,
   "metadata": {
    "collapsed": true
   },
   "outputs": [],
   "source": [
    "import seaborn as sns"
   ]
  },
  {
   "cell_type": "code",
   "execution_count": 24,
   "metadata": {
    "collapsed": false
   },
   "outputs": [
    {
     "data": {
      "text/plain": [
       "<matplotlib.axes._subplots.AxesSubplot at 0xdf29358>"
      ]
     },
     "execution_count": 24,
     "metadata": {},
     "output_type": "execute_result"
    },
    {
     "data": {
      "image/png": "[encoded data removed]",
      "text/plain": [
       "<matplotlib.figure.Figure at 0xdf0bbe0>"
      ]
     },
     "metadata": {},
     "output_type": "display_data"
    }
   ],
   "source": [
    "sns.heatmap(df1.corr())"
   ]
  },
  {
   "cell_type": "code",
   "execution_count": 31,
   "metadata": {
    "collapsed": false
   },
   "outputs": [
    {
     "ename": "KeyError",
     "evalue": "'Bottle Volume (ml)'",
     "output_type": "error",
     "traceback": [
      "\u001b[1;31m---------------------------------------------------------------------------\u001b[0m",
      "\u001b[1;31mKeyError\u001b[0m                                  Traceback (most recent call last)",
      "\u001b[1;32m<ipython-input-31-3810d3eaa6bf>\u001b[0m in \u001b[0;36m<module>\u001b[1;34m()\u001b[0m\n\u001b[0;32m      1\u001b[0m \u001b[1;31m#Plotting the barchart\u001b[0m\u001b[1;33m\u001b[0m\u001b[1;33m\u001b[0m\u001b[0m\n\u001b[1;32m----> 2\u001b[1;33m \u001b[0mdf1Groupby\u001b[0m\u001b[1;33m.\u001b[0m\u001b[0mplot\u001b[0m\u001b[1;33m(\u001b[0m\u001b[0mkind\u001b[0m \u001b[1;33m=\u001b[0m \u001b[1;34m\"bar\"\u001b[0m\u001b[1;33m,\u001b[0m \u001b[0mx\u001b[0m \u001b[1;33m=\u001b[0m \u001b[1;34m\"Bottle Volume (ml)\"\u001b[0m\u001b[1;33m,\u001b[0m \u001b[0my\u001b[0m \u001b[1;33m=\u001b[0m \u001b[1;34m\"Bottles Sold\"\u001b[0m\u001b[1;33m)\u001b[0m\u001b[1;33m\u001b[0m\u001b[0m\n\u001b[0m",
      "\u001b[1;32mC:\\Users\\PASAGI\\Anaconda2\\lib\\site-packages\\pandas\\tools\\plotting.pyc\u001b[0m in \u001b[0;36m__call__\u001b[1;34m(self, x, y, kind, ax, subplots, sharex, sharey, layout, figsize, use_index, title, grid, legend, style, logx, logy, loglog, xticks, yticks, xlim, ylim, rot, fontsize, colormap, table, yerr, xerr, secondary_y, sort_columns, **kwds)\u001b[0m\n\u001b[0;32m   3735\u001b[0m                           \u001b[0mfontsize\u001b[0m\u001b[1;33m=\u001b[0m\u001b[0mfontsize\u001b[0m\u001b[1;33m,\u001b[0m \u001b[0mcolormap\u001b[0m\u001b[1;33m=\u001b[0m\u001b[0mcolormap\u001b[0m\u001b[1;33m,\u001b[0m \u001b[0mtable\u001b[0m\u001b[1;33m=\u001b[0m\u001b[0mtable\u001b[0m\u001b[1;33m,\u001b[0m\u001b[1;33m\u001b[0m\u001b[0m\n\u001b[0;32m   3736\u001b[0m                           \u001b[0myerr\u001b[0m\u001b[1;33m=\u001b[0m\u001b[0myerr\u001b[0m\u001b[1;33m,\u001b[0m \u001b[0mxerr\u001b[0m\u001b[1;33m=\u001b[0m\u001b[0mxerr\u001b[0m\u001b[1;33m,\u001b[0m \u001b[0msecondary_y\u001b[0m\u001b[1;33m=\u001b[0m\u001b[0msecondary_y\u001b[0m\u001b[1;33m,\u001b[0m\u001b[1;33m\u001b[0m\u001b[0m\n\u001b[1;32m-> 3737\u001b[1;33m                           sort_columns=sort_columns, **kwds)\n\u001b[0m\u001b[0;32m   3738\u001b[0m     \u001b[0m__call__\u001b[0m\u001b[1;33m.\u001b[0m\u001b[0m__doc__\u001b[0m \u001b[1;33m=\u001b[0m \u001b[0mplot_frame\u001b[0m\u001b[1;33m.\u001b[0m\u001b[0m__doc__\u001b[0m\u001b[1;33m\u001b[0m\u001b[0m\n\u001b[0;32m   3739\u001b[0m \u001b[1;33m\u001b[0m\u001b[0m\n",
      "\u001b[1;32mC:\\Users\\PASAGI\\Anaconda2\\lib\\site-packages\\pandas\\tools\\plotting.pyc\u001b[0m in \u001b[0;36mplot_frame\u001b[1;34m(data, x, y, kind, ax, subplots, sharex, sharey, layout, figsize, use_index, title, grid, legend, style, logx, logy, loglog, xticks, yticks, xlim, ylim, rot, fontsize, colormap, table, yerr, xerr, secondary_y, sort_columns, **kwds)\u001b[0m\n\u001b[0;32m   2609\u001b[0m                  \u001b[0myerr\u001b[0m\u001b[1;33m=\u001b[0m\u001b[0myerr\u001b[0m\u001b[1;33m,\u001b[0m \u001b[0mxerr\u001b[0m\u001b[1;33m=\u001b[0m\u001b[0mxerr\u001b[0m\u001b[1;33m,\u001b[0m\u001b[1;33m\u001b[0m\u001b[0m\n\u001b[0;32m   2610\u001b[0m                  \u001b[0msecondary_y\u001b[0m\u001b[1;33m=\u001b[0m\u001b[0msecondary_y\u001b[0m\u001b[1;33m,\u001b[0m \u001b[0msort_columns\u001b[0m\u001b[1;33m=\u001b[0m\u001b[0msort_columns\u001b[0m\u001b[1;33m,\u001b[0m\u001b[1;33m\u001b[0m\u001b[0m\n\u001b[1;32m-> 2611\u001b[1;33m                  **kwds)\n\u001b[0m\u001b[0;32m   2612\u001b[0m \u001b[1;33m\u001b[0m\u001b[0m\n\u001b[0;32m   2613\u001b[0m \u001b[1;33m\u001b[0m\u001b[0m\n",
      "\u001b[1;32mC:\\Users\\PASAGI\\Anaconda2\\lib\\site-packages\\pandas\\tools\\plotting.pyc\u001b[0m in \u001b[0;36m_plot\u001b[1;34m(data, x, y, subplots, ax, kind, **kwds)\u001b[0m\n\u001b[0;32m   2416\u001b[0m                 \u001b[1;32mif\u001b[0m \u001b[0mcom\u001b[0m\u001b[1;33m.\u001b[0m\u001b[0mis_integer\u001b[0m\u001b[1;33m(\u001b[0m\u001b[0mx\u001b[0m\u001b[1;33m)\u001b[0m \u001b[1;32mand\u001b[0m \u001b[1;32mnot\u001b[0m \u001b[0mdata\u001b[0m\u001b[1;33m.\u001b[0m\u001b[0mcolumns\u001b[0m\u001b[1;33m.\u001b[0m\u001b[0mholds_integer\u001b[0m\u001b[1;33m(\u001b[0m\u001b[1;33m)\u001b[0m\u001b[1;33m:\u001b[0m\u001b[1;33m\u001b[0m\u001b[0m\n\u001b[0;32m   2417\u001b[0m                     \u001b[0mx\u001b[0m \u001b[1;33m=\u001b[0m \u001b[0mdata\u001b[0m\u001b[1;33m.\u001b[0m\u001b[0mcolumns\u001b[0m\u001b[1;33m[\u001b[0m\u001b[0mx\u001b[0m\u001b[1;33m]\u001b[0m\u001b[1;33m\u001b[0m\u001b[0m\n\u001b[1;32m-> 2418\u001b[1;33m                 \u001b[0mdata\u001b[0m \u001b[1;33m=\u001b[0m \u001b[0mdata\u001b[0m\u001b[1;33m.\u001b[0m\u001b[0mset_index\u001b[0m\u001b[1;33m(\u001b[0m\u001b[0mx\u001b[0m\u001b[1;33m)\u001b[0m\u001b[1;33m\u001b[0m\u001b[0m\n\u001b[0m\u001b[0;32m   2419\u001b[0m \u001b[1;33m\u001b[0m\u001b[0m\n\u001b[0;32m   2420\u001b[0m             \u001b[1;32mif\u001b[0m \u001b[0my\u001b[0m \u001b[1;32mis\u001b[0m \u001b[1;32mnot\u001b[0m \u001b[0mNone\u001b[0m\u001b[1;33m:\u001b[0m\u001b[1;33m\u001b[0m\u001b[0m\n",
      "\u001b[1;32mC:\\Users\\PASAGI\\Anaconda2\\lib\\site-packages\\pandas\\core\\frame.pyc\u001b[0m in \u001b[0;36mset_index\u001b[1;34m(self, keys, drop, append, inplace, verify_integrity)\u001b[0m\n\u001b[0;32m   2829\u001b[0m                 \u001b[0mnames\u001b[0m\u001b[1;33m.\u001b[0m\u001b[0mappend\u001b[0m\u001b[1;33m(\u001b[0m\u001b[0mNone\u001b[0m\u001b[1;33m)\u001b[0m\u001b[1;33m\u001b[0m\u001b[0m\n\u001b[0;32m   2830\u001b[0m             \u001b[1;32melse\u001b[0m\u001b[1;33m:\u001b[0m\u001b[1;33m\u001b[0m\u001b[0m\n\u001b[1;32m-> 2831\u001b[1;33m                 \u001b[0mlevel\u001b[0m \u001b[1;33m=\u001b[0m \u001b[0mframe\u001b[0m\u001b[1;33m[\u001b[0m\u001b[0mcol\u001b[0m\u001b[1;33m]\u001b[0m\u001b[1;33m.\u001b[0m\u001b[0m_values\u001b[0m\u001b[1;33m\u001b[0m\u001b[0m\n\u001b[0m\u001b[0;32m   2832\u001b[0m                 \u001b[0mnames\u001b[0m\u001b[1;33m.\u001b[0m\u001b[0mappend\u001b[0m\u001b[1;33m(\u001b[0m\u001b[0mcol\u001b[0m\u001b[1;33m)\u001b[0m\u001b[1;33m\u001b[0m\u001b[0m\n\u001b[0;32m   2833\u001b[0m                 \u001b[1;32mif\u001b[0m \u001b[0mdrop\u001b[0m\u001b[1;33m:\u001b[0m\u001b[1;33m\u001b[0m\u001b[0m\n",
      "\u001b[1;32mC:\\Users\\PASAGI\\Anaconda2\\lib\\site-packages\\pandas\\core\\frame.pyc\u001b[0m in \u001b[0;36m__getitem__\u001b[1;34m(self, key)\u001b[0m\n\u001b[0;32m   1990\u001b[0m             \u001b[1;32mreturn\u001b[0m \u001b[0mself\u001b[0m\u001b[1;33m.\u001b[0m\u001b[0m_getitem_multilevel\u001b[0m\u001b[1;33m(\u001b[0m\u001b[0mkey\u001b[0m\u001b[1;33m)\u001b[0m\u001b[1;33m\u001b[0m\u001b[0m\n\u001b[0;32m   1991\u001b[0m         \u001b[1;32melse\u001b[0m\u001b[1;33m:\u001b[0m\u001b[1;33m\u001b[0m\u001b[0m\n\u001b[1;32m-> 1992\u001b[1;33m             \u001b[1;32mreturn\u001b[0m \u001b[0mself\u001b[0m\u001b[1;33m.\u001b[0m\u001b[0m_getitem_column\u001b[0m\u001b[1;33m(\u001b[0m\u001b[0mkey\u001b[0m\u001b[1;33m)\u001b[0m\u001b[1;33m\u001b[0m\u001b[0m\n\u001b[0m\u001b[0;32m   1993\u001b[0m \u001b[1;33m\u001b[0m\u001b[0m\n\u001b[0;32m   1994\u001b[0m     \u001b[1;32mdef\u001b[0m \u001b[0m_getitem_column\u001b[0m\u001b[1;33m(\u001b[0m\u001b[0mself\u001b[0m\u001b[1;33m,\u001b[0m \u001b[0mkey\u001b[0m\u001b[1;33m)\u001b[0m\u001b[1;33m:\u001b[0m\u001b[1;33m\u001b[0m\u001b[0m\n",
      "\u001b[1;32mC:\\Users\\PASAGI\\Anaconda2\\lib\\site-packages\\pandas\\core\\frame.pyc\u001b[0m in \u001b[0;36m_getitem_column\u001b[1;34m(self, key)\u001b[0m\n\u001b[0;32m   1997\u001b[0m         \u001b[1;31m# get column\u001b[0m\u001b[1;33m\u001b[0m\u001b[1;33m\u001b[0m\u001b[0m\n\u001b[0;32m   1998\u001b[0m         \u001b[1;32mif\u001b[0m \u001b[0mself\u001b[0m\u001b[1;33m.\u001b[0m\u001b[0mcolumns\u001b[0m\u001b[1;33m.\u001b[0m\u001b[0mis_unique\u001b[0m\u001b[1;33m:\u001b[0m\u001b[1;33m\u001b[0m\u001b[0m\n\u001b[1;32m-> 1999\u001b[1;33m             \u001b[1;32mreturn\u001b[0m \u001b[0mself\u001b[0m\u001b[1;33m.\u001b[0m\u001b[0m_get_item_cache\u001b[0m\u001b[1;33m(\u001b[0m\u001b[0mkey\u001b[0m\u001b[1;33m)\u001b[0m\u001b[1;33m\u001b[0m\u001b[0m\n\u001b[0m\u001b[0;32m   2000\u001b[0m \u001b[1;33m\u001b[0m\u001b[0m\n\u001b[0;32m   2001\u001b[0m         \u001b[1;31m# duplicate columns & possible reduce dimensionality\u001b[0m\u001b[1;33m\u001b[0m\u001b[1;33m\u001b[0m\u001b[0m\n",
      "\u001b[1;32mC:\\Users\\PASAGI\\Anaconda2\\lib\\site-packages\\pandas\\core\\generic.pyc\u001b[0m in \u001b[0;36m_get_item_cache\u001b[1;34m(self, item)\u001b[0m\n\u001b[0;32m   1343\u001b[0m         \u001b[0mres\u001b[0m \u001b[1;33m=\u001b[0m \u001b[0mcache\u001b[0m\u001b[1;33m.\u001b[0m\u001b[0mget\u001b[0m\u001b[1;33m(\u001b[0m\u001b[0mitem\u001b[0m\u001b[1;33m)\u001b[0m\u001b[1;33m\u001b[0m\u001b[0m\n\u001b[0;32m   1344\u001b[0m         \u001b[1;32mif\u001b[0m \u001b[0mres\u001b[0m \u001b[1;32mis\u001b[0m \u001b[0mNone\u001b[0m\u001b[1;33m:\u001b[0m\u001b[1;33m\u001b[0m\u001b[0m\n\u001b[1;32m-> 1345\u001b[1;33m             \u001b[0mvalues\u001b[0m \u001b[1;33m=\u001b[0m \u001b[0mself\u001b[0m\u001b[1;33m.\u001b[0m\u001b[0m_data\u001b[0m\u001b[1;33m.\u001b[0m\u001b[0mget\u001b[0m\u001b[1;33m(\u001b[0m\u001b[0mitem\u001b[0m\u001b[1;33m)\u001b[0m\u001b[1;33m\u001b[0m\u001b[0m\n\u001b[0m\u001b[0;32m   1346\u001b[0m             \u001b[0mres\u001b[0m \u001b[1;33m=\u001b[0m \u001b[0mself\u001b[0m\u001b[1;33m.\u001b[0m\u001b[0m_box_item_values\u001b[0m\u001b[1;33m(\u001b[0m\u001b[0mitem\u001b[0m\u001b[1;33m,\u001b[0m \u001b[0mvalues\u001b[0m\u001b[1;33m)\u001b[0m\u001b[1;33m\u001b[0m\u001b[0m\n\u001b[0;32m   1347\u001b[0m             \u001b[0mcache\u001b[0m\u001b[1;33m[\u001b[0m\u001b[0mitem\u001b[0m\u001b[1;33m]\u001b[0m \u001b[1;33m=\u001b[0m \u001b[0mres\u001b[0m\u001b[1;33m\u001b[0m\u001b[0m\n",
      "\u001b[1;32mC:\\Users\\PASAGI\\Anaconda2\\lib\\site-packages\\pandas\\core\\internals.pyc\u001b[0m in \u001b[0;36mget\u001b[1;34m(self, item, fastpath)\u001b[0m\n\u001b[0;32m   3223\u001b[0m \u001b[1;33m\u001b[0m\u001b[0m\n\u001b[0;32m   3224\u001b[0m             \u001b[1;32mif\u001b[0m \u001b[1;32mnot\u001b[0m \u001b[0misnull\u001b[0m\u001b[1;33m(\u001b[0m\u001b[0mitem\u001b[0m\u001b[1;33m)\u001b[0m\u001b[1;33m:\u001b[0m\u001b[1;33m\u001b[0m\u001b[0m\n\u001b[1;32m-> 3225\u001b[1;33m                 \u001b[0mloc\u001b[0m \u001b[1;33m=\u001b[0m \u001b[0mself\u001b[0m\u001b[1;33m.\u001b[0m\u001b[0mitems\u001b[0m\u001b[1;33m.\u001b[0m\u001b[0mget_loc\u001b[0m\u001b[1;33m(\u001b[0m\u001b[0mitem\u001b[0m\u001b[1;33m)\u001b[0m\u001b[1;33m\u001b[0m\u001b[0m\n\u001b[0m\u001b[0;32m   3226\u001b[0m             \u001b[1;32melse\u001b[0m\u001b[1;33m:\u001b[0m\u001b[1;33m\u001b[0m\u001b[0m\n\u001b[0;32m   3227\u001b[0m                 \u001b[0mindexer\u001b[0m \u001b[1;33m=\u001b[0m \u001b[0mnp\u001b[0m\u001b[1;33m.\u001b[0m\u001b[0marange\u001b[0m\u001b[1;33m(\u001b[0m\u001b[0mlen\u001b[0m\u001b[1;33m(\u001b[0m\u001b[0mself\u001b[0m\u001b[1;33m.\u001b[0m\u001b[0mitems\u001b[0m\u001b[1;33m)\u001b[0m\u001b[1;33m)\u001b[0m\u001b[1;33m[\u001b[0m\u001b[0misnull\u001b[0m\u001b[1;33m(\u001b[0m\u001b[0mself\u001b[0m\u001b[1;33m.\u001b[0m\u001b[0mitems\u001b[0m\u001b[1;33m)\u001b[0m\u001b[1;33m]\u001b[0m\u001b[1;33m\u001b[0m\u001b[0m\n",
      "\u001b[1;32mC:\\Users\\PASAGI\\Anaconda2\\lib\\site-packages\\pandas\\indexes\\base.pyc\u001b[0m in \u001b[0;36mget_loc\u001b[1;34m(self, key, method, tolerance)\u001b[0m\n\u001b[0;32m   1876\u001b[0m                 \u001b[1;32mreturn\u001b[0m \u001b[0mself\u001b[0m\u001b[1;33m.\u001b[0m\u001b[0m_engine\u001b[0m\u001b[1;33m.\u001b[0m\u001b[0mget_loc\u001b[0m\u001b[1;33m(\u001b[0m\u001b[0mkey\u001b[0m\u001b[1;33m)\u001b[0m\u001b[1;33m\u001b[0m\u001b[0m\n\u001b[0;32m   1877\u001b[0m             \u001b[1;32mexcept\u001b[0m \u001b[0mKeyError\u001b[0m\u001b[1;33m:\u001b[0m\u001b[1;33m\u001b[0m\u001b[0m\n\u001b[1;32m-> 1878\u001b[1;33m                 \u001b[1;32mreturn\u001b[0m \u001b[0mself\u001b[0m\u001b[1;33m.\u001b[0m\u001b[0m_engine\u001b[0m\u001b[1;33m.\u001b[0m\u001b[0mget_loc\u001b[0m\u001b[1;33m(\u001b[0m\u001b[0mself\u001b[0m\u001b[1;33m.\u001b[0m\u001b[0m_maybe_cast_indexer\u001b[0m\u001b[1;33m(\u001b[0m\u001b[0mkey\u001b[0m\u001b[1;33m)\u001b[0m\u001b[1;33m)\u001b[0m\u001b[1;33m\u001b[0m\u001b[0m\n\u001b[0m\u001b[0;32m   1879\u001b[0m \u001b[1;33m\u001b[0m\u001b[0m\n\u001b[0;32m   1880\u001b[0m         \u001b[0mindexer\u001b[0m \u001b[1;33m=\u001b[0m \u001b[0mself\u001b[0m\u001b[1;33m.\u001b[0m\u001b[0mget_indexer\u001b[0m\u001b[1;33m(\u001b[0m\u001b[1;33m[\u001b[0m\u001b[0mkey\u001b[0m\u001b[1;33m]\u001b[0m\u001b[1;33m,\u001b[0m \u001b[0mmethod\u001b[0m\u001b[1;33m=\u001b[0m\u001b[0mmethod\u001b[0m\u001b[1;33m,\u001b[0m \u001b[0mtolerance\u001b[0m\u001b[1;33m=\u001b[0m\u001b[0mtolerance\u001b[0m\u001b[1;33m)\u001b[0m\u001b[1;33m\u001b[0m\u001b[0m\n",
      "\u001b[1;32mpandas\\index.pyx\u001b[0m in \u001b[0;36mpandas.index.IndexEngine.get_loc (pandas\\index.c:4027)\u001b[1;34m()\u001b[0m\n",
      "\u001b[1;32mpandas\\index.pyx\u001b[0m in \u001b[0;36mpandas.index.IndexEngine.get_loc (pandas\\index.c:3891)\u001b[1;34m()\u001b[0m\n",
      "\u001b[1;32mpandas\\hashtable.pyx\u001b[0m in \u001b[0;36mpandas.hashtable.PyObjectHashTable.get_item (pandas\\hashtable.c:12408)\u001b[1;34m()\u001b[0m\n",
      "\u001b[1;32mpandas\\hashtable.pyx\u001b[0m in \u001b[0;36mpandas.hashtable.PyObjectHashTable.get_item (pandas\\hashtable.c:12359)\u001b[1;34m()\u001b[0m\n",
      "\u001b[1;31mKeyError\u001b[0m: 'Bottle Volume (ml)'"
     ]
    }
   ],
   "source": [
    "#Plotting the barchart\n",
    "df1Groupby.plot(kind = \"bar\", x = \"Bottle Volume (ml)\", y = \"Bottles Sold\")"
   ]
  },
  {
   "cell_type": "markdown",
   "metadata": {},
   "source": [
    "## Record your findings\n",
    "\n",
    "Be sure to write out anything observations from your exploratory analysis."
   ]
  },
  {
   "cell_type": "markdown",
   "metadata": {},
   "source": [
    "# Mine the data\n",
    "Now you are ready to compute the variables you will use for your regression from the data. For example, you may want to\n",
    "compute total sales per store from Jan to March of 2015, mean price per bottle, etc. Refer to the readme for more ideas appropriate to your scenario.\n",
    "\n",
    "Pandas is your friend for this task. Take a look at the operations [here](http://pandas.pydata.org/pandas-docs/stable/groupby.html) for ideas on how to make the best use of pandas and feel free to search for blog and Stack Overflow posts to help you group data by certain variables and compute sums, means, etc. You may find it useful to create a new data frame to house this summary data."
   ]
  },
  {
   "cell_type": "markdown",
   "metadata": {},
   "source": [
    "# Refine the data\n",
    "Look for any statistical relationships, correlations, or other relevant properties of the dataset."
   ]
  },
  {
   "cell_type": "code",
   "execution_count": null,
   "metadata": {
    "collapsed": true
   },
   "outputs": [],
   "source": []
  },
  {
   "cell_type": "markdown",
   "metadata": {},
   "source": [
    "# Build your models\n",
    "\n",
    "Using scikit-learn or statsmodels, build the necessary models for your scenario. Evaluate model fit."
   ]
  },
  {
   "cell_type": "code",
   "execution_count": null,
   "metadata": {
    "collapsed": true
   },
   "outputs": [],
   "source": [
    "from sklearn import linear_model\n"
   ]
  },
  {
   "cell_type": "markdown",
   "metadata": {},
   "source": [
    "## Plot your results\n",
    "\n",
    "Again make sure that you record any valuable information. For example, in the tax scenario, did you find the sales from the first three months of the year to be a good predictor of the total sales for the year? Plot the predictions versus the true values and discuss the successes and limitations of your models"
   ]
  },
  {
   "cell_type": "code",
   "execution_count": null,
   "metadata": {
    "collapsed": true
   },
   "outputs": [],
   "source": []
  },
  {
   "cell_type": "markdown",
   "metadata": {},
   "source": [
    "# Present the Results\n",
    "\n",
    "Present your conclusions and results. If you have more than one interesting model feel free to include more than one along with a discussion. Use your work in this notebook to prepare your write-up."
   ]
  },
  {
   "cell_type": "code",
   "execution_count": null,
   "metadata": {
    "collapsed": true
   },
   "outputs": [],
   "source": []
  }
 ],
 "metadata": {
  "kernelspec": {
   "display_name": "Python 2",
   "language": "python",
   "name": "python2"
  },
  "language_info": {
   "codemirror_mode": {
    "name": "ipython",
    "version": 2
   },
   "file_extension": ".py",
   "mimetype": "text/x-python",
   "name": "python",
   "nbconvert_exporter": "python",
   "pygments_lexer": "ipython2",
   "version": "2.7.11"
  }
 },
 "nbformat": 4,
 "nbformat_minor": 0
}
