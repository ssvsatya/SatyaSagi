{
 "cells": [
  {
   "cell_type": "markdown",
   "metadata": {},
   "source": [
    "# Getting started\n",
    "\n",
    "Once you've chosen your scenario, download the data from [the Iowa website](https://data.iowa.gov/Economy/Iowa-Liquor-Sales/m3tr-qhgy) in csv format. Start by loading the data with pandas. You may need to parse the date columns appropriately."
   ]
  },
  {
   "cell_type": "code",
   "execution_count": 22,
   "metadata": {
    "collapsed": false
   },
   "outputs": [],
   "source": [
    "import pandas as pd\n",
    "import numpy as np\n",
    "import math\n",
    "import matplotlib.pyplot as plt\n",
    "import matplotlib\n",
    "import seaborn as sns\n",
    "plt.rcParams['figure.figsize'] = 12, 12\n",
    "%matplotlib inline\n",
    "\n",
    "matplotlib.style.use('ggplot')\n",
    "## Load the data into a DataFrame\n",
    "df = pd.read_csv(\"../assets/Iowa_Liquor_sales_sample_10pct.csv\")\n",
    "df.dropna(inplace=True)\n",
    "df\n",
    "df1 = df"
   ]
  },
  {
   "cell_type": "code",
   "execution_count": 23,
   "metadata": {
    "collapsed": false
   },
   "outputs": [
    {
     "data": {
      "text/plain": [
       "Date                      object\n",
       "Store Number               int64\n",
       "City                      object\n",
       "Zip Code                  object\n",
       "County Number            float64\n",
       "County                    object\n",
       "Category                 float64\n",
       "Category Name             object\n",
       "Vendor Number              int64\n",
       "Item Number                int64\n",
       "Item Description          object\n",
       "Bottle Volume (ml)         int64\n",
       "State Bottle Cost         object\n",
       "State Bottle Retail       object\n",
       "Bottles Sold               int64\n",
       "Sale (Dollars)            object\n",
       "Volume Sold (Liters)     float64\n",
       "Volume Sold (Gallons)    float64\n",
       "dtype: object"
      ]
     },
     "execution_count": 23,
     "metadata": {},
     "output_type": "execute_result"
    }
   ],
   "source": [
    "df.dtypes"
   ]
  },
  {
   "cell_type": "code",
   "execution_count": 24,
   "metadata": {
    "collapsed": false
   },
   "outputs": [
    {
     "name": "stderr",
     "output_type": "stream",
     "text": [
      "C:\\Users\\PASAGI\\Anaconda2\\lib\\site-packages\\ipykernel\\__main__.py:14: SettingWithCopyWarning: \n",
      "A value is trying to be set on a copy of a slice from a DataFrame.\n",
      "Try using .loc[row_indexer,col_indexer] = value instead\n",
      "\n",
      "See the caveats in the documentation: http://pandas.pydata.org/pandas-docs/stable/indexing.html#indexing-view-versus-copy\n",
      "C:\\Users\\PASAGI\\Anaconda2\\lib\\site-packages\\ipykernel\\__main__.py:15: SettingWithCopyWarning: \n",
      "A value is trying to be set on a copy of a slice from a DataFrame.\n",
      "Try using .loc[row_indexer,col_indexer] = value instead\n",
      "\n",
      "See the caveats in the documentation: http://pandas.pydata.org/pandas-docs/stable/indexing.html#indexing-view-versus-copy\n",
      "C:\\Users\\PASAGI\\Anaconda2\\lib\\site-packages\\ipykernel\\__main__.py:16: SettingWithCopyWarning: \n",
      "A value is trying to be set on a copy of a slice from a DataFrame.\n",
      "Try using .loc[row_indexer,col_indexer] = value instead\n",
      "\n",
      "See the caveats in the documentation: http://pandas.pydata.org/pandas-docs/stable/indexing.html#indexing-view-versus-copy\n",
      "C:\\Users\\PASAGI\\Anaconda2\\lib\\site-packages\\ipykernel\\__main__.py:17: SettingWithCopyWarning: \n",
      "A value is trying to be set on a copy of a slice from a DataFrame.\n",
      "Try using .loc[row_indexer,col_indexer] = value instead\n",
      "\n",
      "See the caveats in the documentation: http://pandas.pydata.org/pandas-docs/stable/indexing.html#indexing-view-versus-copy\n",
      "C:\\Users\\PASAGI\\Anaconda2\\lib\\site-packages\\ipykernel\\__main__.py:18: SettingWithCopyWarning: \n",
      "A value is trying to be set on a copy of a slice from a DataFrame.\n",
      "Try using .loc[row_indexer,col_indexer] = value instead\n",
      "\n",
      "See the caveats in the documentation: http://pandas.pydata.org/pandas-docs/stable/indexing.html#indexing-view-versus-copy\n"
     ]
    }
   ],
   "source": [
    "# do your parsing here\n",
    "\n",
    "def binMonthsToQuarters(month):\n",
    "    if( month > 9):\n",
    "        return 4\n",
    "    elif month > 6:\n",
    "        return 3\n",
    "    elif month > 3:\n",
    "        return 2\n",
    "    return 1\n",
    "\n",
    "columns = ['Store Number','Sale (Dollars)','Date']\n",
    "df = df[columns]\n",
    "df['Date'] = pd.to_datetime(df.Date, format=\"%m/%d/%Y\")\n",
    "df['Month'] = df.Date.apply( lambda date: date.month )\n",
    "df['Quarter'] = df.Month.apply(binMonthsToQuarters)\n",
    "df['Year'] = df.Date.apply( lambda date: date.year )\n",
    "df['Sale (Dollars)'] = df['Sale (Dollars)'].apply( lambda dollars: dollars.replace(\"$\",\"\") ).astype(float)"
   ]
  },
  {
   "cell_type": "code",
   "execution_count": 25,
   "metadata": {
    "collapsed": false
   },
   "outputs": [
    {
     "data": {
      "text/plain": [
       "Store Number               int64\n",
       "Sale (Dollars)           float64\n",
       "Date              datetime64[ns]\n",
       "Month                      int64\n",
       "Quarter                    int64\n",
       "Year                       int64\n",
       "dtype: object"
      ]
     },
     "execution_count": 25,
     "metadata": {},
     "output_type": "execute_result"
    }
   ],
   "source": [
    "df.dtypes"
   ]
  },
  {
   "cell_type": "code",
   "execution_count": 26,
   "metadata": {
    "collapsed": false
   },
   "outputs": [
    {
     "name": "stdout",
     "output_type": "stream",
     "text": [
      "   Store Number  Year  Yearly Sales\n",
      "0          2106  2015     146038.70\n",
      "1          2106  2016      30478.75\n",
      "2          2113  2015       9310.22\n",
      "3          2113  2016       2065.90\n",
      "4          2130  2015     111583.91\n",
      "   Store Number  Year  Quarter  Q1 Sales\n",
      "0          2106  2015        1  39287.29\n",
      "1          2106  2016        1  30478.75\n",
      "2          2113  2015        1   2833.25\n",
      "3          2113  2016        1   2065.90\n",
      "4          2130  2015        1  24272.57\n",
      "   Store Number  Year  Yearly Sales  Quarter  Q1 Sales\n",
      "0          2106  2015     146038.70        1  39287.29\n",
      "1          2106  2016      30478.75        1  30478.75\n",
      "2          2113  2015       9310.22        1   2833.25\n",
      "3          2113  2016       2065.90        1   2065.90\n",
      "4          2130  2015     111583.91        1  24272.57\n",
      "   Store Number  Year  Yearly Sales  Quarter  Q1 Sales\n",
      "0          2106  2015     146038.70        1  39287.29\n",
      "2          2113  2015       9310.22        1   2833.25\n",
      "4          2130  2015     111583.91        1  24272.57\n",
      "6          2152  2015       7721.08        1   2003.46\n",
      "8          2178  2015      24324.18        1   5856.41\n"
     ]
    }
   ],
   "source": [
    "dfQ1 = df[ df.Quarter == 1 ]\n",
    "\n",
    "def getTotalSales(group): return sum( group['Sale (Dollars)'] )\n",
    "\n",
    "dfGrpByStoreandQ = dfQ1.groupby(['Store Number','Year','Quarter'])\n",
    "dfGrpByStoreandY = df.groupby(['Store Number','Year'])\n",
    "\n",
    "#print dfGrpByStoreandQ.head(5)\n",
    "#print dfGrpByStoreandY.head(5)\n",
    "#aggregations1 = {\n",
    "#    'Sale (Dollars)' : {\n",
    "#        'Yearly Sales': 'sum'\n",
    "#    }\n",
    "#}\n",
    "aggregations1 = { 'Sale (Dollars)' : 'sum' }\n",
    "\n",
    "#aggregations2 = {\n",
    "#    'Sale (Dollars)' : {\n",
    "#        'First Quarter Sales': 'sum'\n",
    "#    }\n",
    "#}\n",
    "\n",
    "#yearlyStoreSales   = dfGrpByStoreandY.agg(aggregations1).reset_index()\n",
    "#quartelyStoreSales = dfGrpByStoreandQ.agg(aggregations2).reset_index()\n",
    "yearlyStoreSales   = dfGrpByStoreandY.agg(aggregations1).reset_index()\n",
    "#print yearlyStoreSales.head()\n",
    "quarterlyStoreSales = dfGrpByStoreandQ.agg(aggregations1).reset_index()\n",
    "#print quarterlyStoreSales.head()\n",
    "#yearlyStoreSales['Sale (Dollars)'] = yearlyStoreSales['Yearly Sales']\n",
    "yearlyStoreSales = yearlyStoreSales.rename(columns = {'Sale (Dollars)' : 'Yearly Sales'})\n",
    "#quarterlyStoreSales['Sale (Dollars)'] = quarterlyStoreSales['Q1 Sales']\n",
    "print yearlyStoreSales.head()\n",
    "quarterlyStoreSales = quarterlyStoreSales.rename(columns = {'Sale (Dollars)' : 'Q1 Sales'})\n",
    "print quarterlyStoreSales.head()\n",
    "result = pd.merge(yearlyStoreSales,quarterlyStoreSales, how='inner', on=['Store Number', 'Year'])\n",
    "\n",
    "resultForRegression = result[ result.Year == 2015 ]\n",
    "\n",
    "\n",
    "\n",
    "print result.head()\n",
    "print resultForRegression.head()\n"
   ]
  },
  {
   "cell_type": "code",
   "execution_count": 27,
   "metadata": {
    "collapsed": false
   },
   "outputs": [
    {
     "data": {
      "text/html": [
       "<div>\n",
       "<table border=\"1\" class=\"dataframe\">\n",
       "  <thead>\n",
       "    <tr style=\"text-align: right;\">\n",
       "      <th></th>\n",
       "      <th>Store Number</th>\n",
       "      <th>Year</th>\n",
       "      <th>Yearly Sales</th>\n",
       "      <th>Quarter</th>\n",
       "      <th>Q1 Sales</th>\n",
       "    </tr>\n",
       "  </thead>\n",
       "  <tbody>\n",
       "    <tr>\n",
       "      <th>0</th>\n",
       "      <td>2106</td>\n",
       "      <td>2015</td>\n",
       "      <td>146038.70</td>\n",
       "      <td>1</td>\n",
       "      <td>39287.29</td>\n",
       "    </tr>\n",
       "    <tr>\n",
       "      <th>1</th>\n",
       "      <td>2106</td>\n",
       "      <td>2016</td>\n",
       "      <td>30478.75</td>\n",
       "      <td>1</td>\n",
       "      <td>30478.75</td>\n",
       "    </tr>\n",
       "    <tr>\n",
       "      <th>2</th>\n",
       "      <td>2113</td>\n",
       "      <td>2015</td>\n",
       "      <td>9310.22</td>\n",
       "      <td>1</td>\n",
       "      <td>2833.25</td>\n",
       "    </tr>\n",
       "    <tr>\n",
       "      <th>3</th>\n",
       "      <td>2113</td>\n",
       "      <td>2016</td>\n",
       "      <td>2065.90</td>\n",
       "      <td>1</td>\n",
       "      <td>2065.90</td>\n",
       "    </tr>\n",
       "    <tr>\n",
       "      <th>4</th>\n",
       "      <td>2130</td>\n",
       "      <td>2015</td>\n",
       "      <td>111583.91</td>\n",
       "      <td>1</td>\n",
       "      <td>24272.57</td>\n",
       "    </tr>\n",
       "  </tbody>\n",
       "</table>\n",
       "</div>"
      ],
      "text/plain": [
       "   Store Number  Year  Yearly Sales  Quarter  Q1 Sales\n",
       "0          2106  2015     146038.70        1  39287.29\n",
       "1          2106  2016      30478.75        1  30478.75\n",
       "2          2113  2015       9310.22        1   2833.25\n",
       "3          2113  2016       2065.90        1   2065.90\n",
       "4          2130  2015     111583.91        1  24272.57"
      ]
     },
     "execution_count": 27,
     "metadata": {},
     "output_type": "execute_result"
    }
   ],
   "source": [
    "result.head()"
   ]
  },
  {
   "cell_type": "code",
   "execution_count": 28,
   "metadata": {
    "collapsed": false
   },
   "outputs": [
    {
     "data": {
      "text/html": [
       "<div>\n",
       "<table border=\"1\" class=\"dataframe\">\n",
       "  <thead>\n",
       "    <tr style=\"text-align: right;\">\n",
       "      <th></th>\n",
       "      <th>Store Number</th>\n",
       "      <th>Year</th>\n",
       "      <th>Yearly Sales</th>\n",
       "      <th>Quarter</th>\n",
       "      <th>Q1 Sales</th>\n",
       "    </tr>\n",
       "  </thead>\n",
       "  <tbody>\n",
       "    <tr>\n",
       "      <th>0</th>\n",
       "      <td>2106</td>\n",
       "      <td>2015</td>\n",
       "      <td>146038.70</td>\n",
       "      <td>1</td>\n",
       "      <td>39287.29</td>\n",
       "    </tr>\n",
       "    <tr>\n",
       "      <th>2</th>\n",
       "      <td>2113</td>\n",
       "      <td>2015</td>\n",
       "      <td>9310.22</td>\n",
       "      <td>1</td>\n",
       "      <td>2833.25</td>\n",
       "    </tr>\n",
       "    <tr>\n",
       "      <th>4</th>\n",
       "      <td>2130</td>\n",
       "      <td>2015</td>\n",
       "      <td>111583.91</td>\n",
       "      <td>1</td>\n",
       "      <td>24272.57</td>\n",
       "    </tr>\n",
       "    <tr>\n",
       "      <th>6</th>\n",
       "      <td>2152</td>\n",
       "      <td>2015</td>\n",
       "      <td>7721.08</td>\n",
       "      <td>1</td>\n",
       "      <td>2003.46</td>\n",
       "    </tr>\n",
       "    <tr>\n",
       "      <th>8</th>\n",
       "      <td>2178</td>\n",
       "      <td>2015</td>\n",
       "      <td>24324.18</td>\n",
       "      <td>1</td>\n",
       "      <td>5856.41</td>\n",
       "    </tr>\n",
       "  </tbody>\n",
       "</table>\n",
       "</div>"
      ],
      "text/plain": [
       "   Store Number  Year  Yearly Sales  Quarter  Q1 Sales\n",
       "0          2106  2015     146038.70        1  39287.29\n",
       "2          2113  2015       9310.22        1   2833.25\n",
       "4          2130  2015     111583.91        1  24272.57\n",
       "6          2152  2015       7721.08        1   2003.46\n",
       "8          2178  2015      24324.18        1   5856.41"
      ]
     },
     "execution_count": 28,
     "metadata": {},
     "output_type": "execute_result"
    }
   ],
   "source": [
    "resultForRegression.head()"
   ]
  },
  {
   "cell_type": "code",
   "execution_count": 29,
   "metadata": {
    "collapsed": false
   },
   "outputs": [
    {
     "data": {
      "text/html": [
       "<div>\n",
       "<table border=\"1\" class=\"dataframe\">\n",
       "  <thead>\n",
       "    <tr style=\"text-align: right;\">\n",
       "      <th></th>\n",
       "      <th>Store Number</th>\n",
       "      <th>Year</th>\n",
       "      <th>Yearly Sales</th>\n",
       "      <th>Quarter</th>\n",
       "      <th>Q1 Sales</th>\n",
       "    </tr>\n",
       "  </thead>\n",
       "  <tbody>\n",
       "    <tr>\n",
       "      <th>count</th>\n",
       "      <td>1261.000000</td>\n",
       "      <td>1261.0</td>\n",
       "      <td>1261.000000</td>\n",
       "      <td>1261.0</td>\n",
       "      <td>1261.000000</td>\n",
       "    </tr>\n",
       "    <tr>\n",
       "      <th>mean</th>\n",
       "      <td>4165.405234</td>\n",
       "      <td>2015.0</td>\n",
       "      <td>22059.092807</td>\n",
       "      <td>1.0</td>\n",
       "      <td>4875.750206</td>\n",
       "    </tr>\n",
       "    <tr>\n",
       "      <th>std</th>\n",
       "      <td>810.479948</td>\n",
       "      <td>0.0</td>\n",
       "      <td>52611.922488</td>\n",
       "      <td>0.0</td>\n",
       "      <td>11563.846736</td>\n",
       "    </tr>\n",
       "    <tr>\n",
       "      <th>min</th>\n",
       "      <td>2106.000000</td>\n",
       "      <td>2015.0</td>\n",
       "      <td>44.140000</td>\n",
       "      <td>1.0</td>\n",
       "      <td>11.210000</td>\n",
       "    </tr>\n",
       "    <tr>\n",
       "      <th>25%</th>\n",
       "      <td>3803.000000</td>\n",
       "      <td>2015.0</td>\n",
       "      <td>3587.910000</td>\n",
       "      <td>1.0</td>\n",
       "      <td>833.370000</td>\n",
       "    </tr>\n",
       "    <tr>\n",
       "      <th>50%</th>\n",
       "      <td>4376.000000</td>\n",
       "      <td>2015.0</td>\n",
       "      <td>7771.780000</td>\n",
       "      <td>1.0</td>\n",
       "      <td>1861.750000</td>\n",
       "    </tr>\n",
       "    <tr>\n",
       "      <th>75%</th>\n",
       "      <td>4744.000000</td>\n",
       "      <td>2015.0</td>\n",
       "      <td>20389.680000</td>\n",
       "      <td>1.0</td>\n",
       "      <td>4594.290000</td>\n",
       "    </tr>\n",
       "    <tr>\n",
       "      <th>max</th>\n",
       "      <td>9010.000000</td>\n",
       "      <td>2015.0</td>\n",
       "      <td>997924.420000</td>\n",
       "      <td>1.0</td>\n",
       "      <td>206799.860000</td>\n",
       "    </tr>\n",
       "  </tbody>\n",
       "</table>\n",
       "</div>"
      ],
      "text/plain": [
       "       Store Number    Year   Yearly Sales  Quarter       Q1 Sales\n",
       "count   1261.000000  1261.0    1261.000000   1261.0    1261.000000\n",
       "mean    4165.405234  2015.0   22059.092807      1.0    4875.750206\n",
       "std      810.479948     0.0   52611.922488      0.0   11563.846736\n",
       "min     2106.000000  2015.0      44.140000      1.0      11.210000\n",
       "25%     3803.000000  2015.0    3587.910000      1.0     833.370000\n",
       "50%     4376.000000  2015.0    7771.780000      1.0    1861.750000\n",
       "75%     4744.000000  2015.0   20389.680000      1.0    4594.290000\n",
       "max     9010.000000  2015.0  997924.420000      1.0  206799.860000"
      ]
     },
     "execution_count": 29,
     "metadata": {},
     "output_type": "execute_result"
    }
   ],
   "source": [
    "dbFinal = resultForRegression\n",
    "dbFinal.describe()"
   ]
  },
  {
   "cell_type": "markdown",
   "metadata": {},
   "source": [
    "# Explore the data\n",
    "\n",
    "Perform some exploratory statistical analysis and make some plots, such as histograms of transaction totals, bottles sold, etc."
   ]
  },
  {
   "cell_type": "code",
   "execution_count": 30,
   "metadata": {
    "collapsed": false
   },
   "outputs": [
    {
     "data": {
      "text/plain": [
       "<matplotlib.axes._subplots.AxesSubplot at 0xf3a5ef0>"
      ]
     },
     "execution_count": 30,
     "metadata": {},
     "output_type": "execute_result"
    },
    {
     "data": {
      "image/png": "[encoded data removed]",
      "text/plain": [
       "<matplotlib.figure.Figure at 0x15693438>"
      ]
     },
     "metadata": {},
     "output_type": "display_data"
    }
   ],
   "source": [
    "#dbFinal.plot(kind='scatter', x='Q1 Sales', y='Yearly Sales', figsize=(16, 8), color='r')\n",
    "dbFinal['Yearly Sales'].plot(kind=\"hist\", bins=100, range=(0,100000))"
   ]
  },
  {
   "cell_type": "code",
   "execution_count": 31,
   "metadata": {
    "collapsed": false
   },
   "outputs": [
    {
     "data": {
      "text/plain": [
       "<matplotlib.axes._subplots.AxesSubplot at 0xed19518>"
      ]
     },
     "execution_count": 31,
     "metadata": {},
     "output_type": "execute_result"
    },
    {
     "data": {
      "image/png": "[encoded data removed]",
      "text/plain": [
       "<matplotlib.figure.Figure at 0xeeee128>"
      ]
     },
     "metadata": {},
     "output_type": "display_data"
    }
   ],
   "source": [
    "dbFinal['Q1 Sales'].plot(kind=\"hist\", bins = 100, range=(0,33000))"
   ]
  },
  {
   "cell_type": "markdown",
   "metadata": {},
   "source": [
    "## Record your findings\n",
    "\n",
    "Be sure to write out anything observations from your exploratory analysis."
   ]
  },
  {
   "cell_type": "markdown",
   "metadata": {},
   "source": [
    "The Iowa Liquor Sales data has been reframed to have Stores, 1st quarter sales and overa all year sales for the year 2015. This reframed data gives us a view if the store sales are having consitent or varying sales from 1st quarter to overall year.\n",
    "\n",
    "As a sample, two histograms have been plotted - one for yearly sales and second for quarterly sales. Both the charts show that many stores fall into low sale category. The histograms are consistent.\n",
    "\n",
    "If we look at the Yearly Sales chart, it can be observed that many stores fall into below $ 20,000 dollar sales category.\n",
    "If we take average by quarter, there are many stores fall into below $5000 sales category. This is very close to the second histogram for 1st quarter sales. \n",
    "Majority of the stores' sales is close to the mean $ 4875.75 for Q1 sales and $ 22059.09 for Yearly sales."
   ]
  },
  {
   "cell_type": "markdown",
   "metadata": {},
   "source": [
    "# Mine the data\n",
    "Now you are ready to compute the variables you will use for your regression from the data. For example, you may want to compute total sales per store from Jan to March of 2015, mean price per bottle, etc. Refer to the readme for more ideas appropriate to your scenario.\n",
    "Pandas is your friend for this task. Take a look at the operations here for ideas on how to make the best use of pandas and feel free to search for blog and Stack Overflow posts to help you group data by certain variables and compute sums, means, etc. You may find it useful to create a new data frame to house this summary data."
   ]
  },
  {
   "cell_type": "markdown",
   "metadata": {},
   "source": [
    "# Refine the data\n",
    "Look for any statistical relationships, correlations, or other relevant properties of the dataset."
   ]
  },
  {
   "cell_type": "code",
   "execution_count": 32,
   "metadata": {
    "collapsed": false
   },
   "outputs": [
    {
     "data": {
      "text/html": [
       "<div>\n",
       "<table border=\"1\" class=\"dataframe\">\n",
       "  <thead>\n",
       "    <tr style=\"text-align: right;\">\n",
       "      <th></th>\n",
       "      <th>Store Number</th>\n",
       "      <th>Year</th>\n",
       "      <th>Yearly Sales</th>\n",
       "      <th>Quarter</th>\n",
       "      <th>Q1 Sales</th>\n",
       "    </tr>\n",
       "  </thead>\n",
       "  <tbody>\n",
       "    <tr>\n",
       "      <th>Store Number</th>\n",
       "      <td>1.000000</td>\n",
       "      <td>NaN</td>\n",
       "      <td>-0.348360</td>\n",
       "      <td>NaN</td>\n",
       "      <td>-0.343348</td>\n",
       "    </tr>\n",
       "    <tr>\n",
       "      <th>Year</th>\n",
       "      <td>NaN</td>\n",
       "      <td>NaN</td>\n",
       "      <td>NaN</td>\n",
       "      <td>NaN</td>\n",
       "      <td>NaN</td>\n",
       "    </tr>\n",
       "    <tr>\n",
       "      <th>Yearly Sales</th>\n",
       "      <td>-0.348360</td>\n",
       "      <td>NaN</td>\n",
       "      <td>1.000000</td>\n",
       "      <td>NaN</td>\n",
       "      <td>0.981436</td>\n",
       "    </tr>\n",
       "    <tr>\n",
       "      <th>Quarter</th>\n",
       "      <td>NaN</td>\n",
       "      <td>NaN</td>\n",
       "      <td>NaN</td>\n",
       "      <td>NaN</td>\n",
       "      <td>NaN</td>\n",
       "    </tr>\n",
       "    <tr>\n",
       "      <th>Q1 Sales</th>\n",
       "      <td>-0.343348</td>\n",
       "      <td>NaN</td>\n",
       "      <td>0.981436</td>\n",
       "      <td>NaN</td>\n",
       "      <td>1.000000</td>\n",
       "    </tr>\n",
       "  </tbody>\n",
       "</table>\n",
       "</div>"
      ],
      "text/plain": [
       "              Store Number  Year  Yearly Sales  Quarter  Q1 Sales\n",
       "Store Number      1.000000   NaN     -0.348360      NaN -0.343348\n",
       "Year                   NaN   NaN           NaN      NaN       NaN\n",
       "Yearly Sales     -0.348360   NaN      1.000000      NaN  0.981436\n",
       "Quarter                NaN   NaN           NaN      NaN       NaN\n",
       "Q1 Sales         -0.343348   NaN      0.981436      NaN  1.000000"
      ]
     },
     "execution_count": 32,
     "metadata": {},
     "output_type": "execute_result"
    }
   ],
   "source": [
    "dbFinal.corr()\n"
   ]
  },
  {
   "cell_type": "code",
   "execution_count": 33,
   "metadata": {
    "collapsed": false
   },
   "outputs": [
    {
     "data": {
      "text/html": [
       "<div>\n",
       "<table border=\"1\" class=\"dataframe\">\n",
       "  <thead>\n",
       "    <tr style=\"text-align: right;\">\n",
       "      <th></th>\n",
       "      <th>Store_Number</th>\n",
       "      <th>Year</th>\n",
       "      <th>Yearly_Sales</th>\n",
       "      <th>Quarter</th>\n",
       "      <th>Q1_Sales</th>\n",
       "    </tr>\n",
       "  </thead>\n",
       "  <tbody>\n",
       "    <tr>\n",
       "      <th>0</th>\n",
       "      <td>2106</td>\n",
       "      <td>2015</td>\n",
       "      <td>146038.70</td>\n",
       "      <td>1</td>\n",
       "      <td>39287.29</td>\n",
       "    </tr>\n",
       "    <tr>\n",
       "      <th>2</th>\n",
       "      <td>2113</td>\n",
       "      <td>2015</td>\n",
       "      <td>9310.22</td>\n",
       "      <td>1</td>\n",
       "      <td>2833.25</td>\n",
       "    </tr>\n",
       "    <tr>\n",
       "      <th>4</th>\n",
       "      <td>2130</td>\n",
       "      <td>2015</td>\n",
       "      <td>111583.91</td>\n",
       "      <td>1</td>\n",
       "      <td>24272.57</td>\n",
       "    </tr>\n",
       "    <tr>\n",
       "      <th>6</th>\n",
       "      <td>2152</td>\n",
       "      <td>2015</td>\n",
       "      <td>7721.08</td>\n",
       "      <td>1</td>\n",
       "      <td>2003.46</td>\n",
       "    </tr>\n",
       "    <tr>\n",
       "      <th>8</th>\n",
       "      <td>2178</td>\n",
       "      <td>2015</td>\n",
       "      <td>24324.18</td>\n",
       "      <td>1</td>\n",
       "      <td>5856.41</td>\n",
       "    </tr>\n",
       "  </tbody>\n",
       "</table>\n",
       "</div>"
      ],
      "text/plain": [
       "   Store_Number  Year  Yearly_Sales  Quarter  Q1_Sales\n",
       "0          2106  2015     146038.70        1  39287.29\n",
       "2          2113  2015       9310.22        1   2833.25\n",
       "4          2130  2015     111583.91        1  24272.57\n",
       "6          2152  2015       7721.08        1   2003.46\n",
       "8          2178  2015      24324.18        1   5856.41"
      ]
     },
     "execution_count": 33,
     "metadata": {},
     "output_type": "execute_result"
    }
   ],
   "source": [
    "#dbFinal['Yearly Sales'] = [x/4 for x in dbFinal['Yearly Sales']]\n",
    "dbFinal.columns = [x.replace(' ','_') for x in dbFinal.columns]\n",
    "dbFinal.head()"
   ]
  },
  {
   "cell_type": "code",
   "execution_count": 34,
   "metadata": {
    "collapsed": false
   },
   "outputs": [
    {
     "data": {
      "text/html": [
       "<table class=\"simpletable\">\n",
       "<caption>OLS Regression Results</caption>\n",
       "<tr>\n",
       "  <th>Dep. Variable:</th>      <td>Yearly_Sales</td>   <th>  R-squared:         </th> <td>   0.963</td> \n",
       "</tr>\n",
       "<tr>\n",
       "  <th>Model:</th>                   <td>OLS</td>       <th>  Adj. R-squared:    </th> <td>   0.963</td> \n",
       "</tr>\n",
       "<tr>\n",
       "  <th>Method:</th>             <td>Least Squares</td>  <th>  F-statistic:       </th> <td>3.297e+04</td>\n",
       "</tr>\n",
       "<tr>\n",
       "  <th>Date:</th>             <td>Sun, 26 Jun 2016</td> <th>  Prob (F-statistic):</th>  <td>  0.00</td>  \n",
       "</tr>\n",
       "<tr>\n",
       "  <th>Time:</th>                 <td>19:35:01</td>     <th>  Log-Likelihood:    </th> <td> -13414.</td> \n",
       "</tr>\n",
       "<tr>\n",
       "  <th>No. Observations:</th>      <td>  1261</td>      <th>  AIC:               </th> <td>2.683e+04</td>\n",
       "</tr>\n",
       "<tr>\n",
       "  <th>Df Residuals:</th>          <td>  1259</td>      <th>  BIC:               </th> <td>2.684e+04</td>\n",
       "</tr>\n",
       "<tr>\n",
       "  <th>Df Model:</th>              <td>     1</td>      <th>                     </th>     <td> </td>    \n",
       "</tr>\n",
       "<tr>\n",
       "  <th>Covariance Type:</th>      <td>nonrobust</td>    <th>                     </th>     <td> </td>    \n",
       "</tr>\n",
       "</table>\n",
       "<table class=\"simpletable\">\n",
       "<tr>\n",
       "      <td></td>         <th>coef</th>     <th>std err</th>      <th>t</th>      <th>P>|t|</th> <th>[95.0% Conf. Int.]</th> \n",
       "</tr>\n",
       "<tr>\n",
       "  <th>Intercept</th> <td>  287.7403</td> <td>  308.517</td> <td>    0.933</td> <td> 0.351</td> <td> -317.524   893.004</td>\n",
       "</tr>\n",
       "<tr>\n",
       "  <th>Q1_Sales</th>  <td>    4.4652</td> <td>    0.025</td> <td>  181.574</td> <td> 0.000</td> <td>    4.417     4.513</td>\n",
       "</tr>\n",
       "</table>\n",
       "<table class=\"simpletable\">\n",
       "<tr>\n",
       "  <th>Omnibus:</th>       <td>607.595</td> <th>  Durbin-Watson:     </th> <td>   1.914</td> \n",
       "</tr>\n",
       "<tr>\n",
       "  <th>Prob(Omnibus):</th> <td> 0.000</td>  <th>  Jarque-Bera (JB):  </th> <td>36721.066</td>\n",
       "</tr>\n",
       "<tr>\n",
       "  <th>Skew:</th>          <td> 1.414</td>  <th>  Prob(JB):          </th> <td>    0.00</td> \n",
       "</tr>\n",
       "<tr>\n",
       "  <th>Kurtosis:</th>      <td>29.285</td>  <th>  Cond. No.          </th> <td>1.36e+04</td> \n",
       "</tr>\n",
       "</table>"
      ],
      "text/plain": [
       "<class 'statsmodels.iolib.summary.Summary'>\n",
       "\"\"\"\n",
       "                            OLS Regression Results                            \n",
       "==============================================================================\n",
       "Dep. Variable:           Yearly_Sales   R-squared:                       0.963\n",
       "Model:                            OLS   Adj. R-squared:                  0.963\n",
       "Method:                 Least Squares   F-statistic:                 3.297e+04\n",
       "Date:                Sun, 26 Jun 2016   Prob (F-statistic):               0.00\n",
       "Time:                        19:35:01   Log-Likelihood:                -13414.\n",
       "No. Observations:                1261   AIC:                         2.683e+04\n",
       "Df Residuals:                    1259   BIC:                         2.684e+04\n",
       "Df Model:                           1                                         \n",
       "Covariance Type:            nonrobust                                         \n",
       "==============================================================================\n",
       "                 coef    std err          t      P>|t|      [95.0% Conf. Int.]\n",
       "------------------------------------------------------------------------------\n",
       "Intercept    287.7403    308.517      0.933      0.351      -317.524   893.004\n",
       "Q1_Sales       4.4652      0.025    181.574      0.000         4.417     4.513\n",
       "==============================================================================\n",
       "Omnibus:                      607.595   Durbin-Watson:                   1.914\n",
       "Prob(Omnibus):                  0.000   Jarque-Bera (JB):            36721.066\n",
       "Skew:                           1.414   Prob(JB):                         0.00\n",
       "Kurtosis:                      29.285   Cond. No.                     1.36e+04\n",
       "==============================================================================\n",
       "\n",
       "Warnings:\n",
       "[1] Standard Errors assume that the covariance matrix of the errors is correctly specified.\n",
       "[2] The condition number is large, 1.36e+04. This might indicate that there are\n",
       "strong multicollinearity or other numerical problems.\n",
       "\"\"\""
      ]
     },
     "execution_count": 34,
     "metadata": {},
     "output_type": "execute_result"
    }
   ],
   "source": [
    "import statsmodels.formula.api as smf\n",
    "lmod = smf.ols(formula='Yearly_Sales ~ Q1_Sales', data=dbFinal).fit()\n",
    "lmod.summary()"
   ]
  },
  {
   "cell_type": "code",
   "execution_count": 35,
   "metadata": {
    "collapsed": false
   },
   "outputs": [
    {
     "data": {
      "text/plain": [
       "Intercept    287.740268\n",
       "Q1_Sales       4.465231\n",
       "dtype: float64"
      ]
     },
     "execution_count": 35,
     "metadata": {},
     "output_type": "execute_result"
    }
   ],
   "source": [
    "#printing the coefficients\n",
    "lmod.params"
   ]
  },
  {
   "cell_type": "code",
   "execution_count": 46,
   "metadata": {
    "collapsed": false,
    "scrolled": true
   },
   "outputs": [],
   "source": [
    "predictions = lmod.predict(dbFinal[['Q1_Sales','Store_Number']])"
   ]
  },
  {
   "cell_type": "code",
   "execution_count": 48,
   "metadata": {
    "collapsed": false
   },
   "outputs": [
    {
     "name": "stdout",
     "output_type": "stream",
     "text": [
      "[ 175714.57813302   12938.85691144  108670.3800979  ...,   10741.20401169\n",
      "   22011.80508693   17530.67754142]\n"
     ]
    }
   ],
   "source": [
    "print predictions"
   ]
  },
  {
   "cell_type": "code",
   "execution_count": 57,
   "metadata": {
    "collapsed": false
   },
   "outputs": [
    {
     "data": {
      "image/png": "[encoded data removed]",
      "text/plain": [
       "<matplotlib.figure.Figure at 0x159eb9b0>"
      ]
     },
     "metadata": {},
     "output_type": "display_data"
    }
   ],
   "source": [
    "plt.figure(figsize=(10,8))\n",
    "plt.scatter(dbFinal.Q1_Sales, dbFinal.Yearly_Sales, color='b', alpha=0.5)\n",
    "\n",
    "# set the figure boundaries\n",
    "plt.xlim([min(dbFinal['Q1_Sales'])-5000, max(dbFinal['Q1_Sales'])+5000])\n",
    "plt.ylim([min(dbFinal['Yearly_Sales'])-10000, max(dbFinal['Yearly_Sales'])+10000])\n",
    "\n",
    "plt.plot(predictions)\n",
    "plt.show()\n"
   ]
  },
  {
   "cell_type": "markdown",
   "metadata": {},
   "source": [
    "# Build your models\n",
    "\n",
    "Using scikit-learn or statsmodels, build the necessary models for your scenario. Evaluate model fit."
   ]
  },
  {
   "cell_type": "code",
   "execution_count": 37,
   "metadata": {
    "collapsed": true
   },
   "outputs": [],
   "source": [
    "from sklearn import linear_model\n"
   ]
  },
  {
   "cell_type": "markdown",
   "metadata": {},
   "source": [
    "## Plot your results\n",
    "\n",
    "Again make sure that you record any valuable information. For example, in the tax scenario, did you find the sales from the first three months of the year to be a good predictor of the total sales for the year? Plot the predictions versus the true values and discuss the successes and limitations of your models"
   ]
  },
  {
   "cell_type": "code",
   "execution_count": null,
   "metadata": {
    "collapsed": true
   },
   "outputs": [],
   "source": []
  },
  {
   "cell_type": "markdown",
   "metadata": {},
   "source": [
    "# Present the Results\n",
    "\n",
    "Present your conclusions and results. If you have more than one interesting model feel free to include more than one along with a discussion. Use your work in this notebook to prepare your write-up."
   ]
  },
  {
   "cell_type": "code",
   "execution_count": null,
   "metadata": {
    "collapsed": true
   },
   "outputs": [],
   "source": []
  }
 ],
 "metadata": {
  "kernelspec": {
   "display_name": "Python 2",
   "language": "python",
   "name": "python2"
  },
  "language_info": {
   "codemirror_mode": {
    "name": "ipython",
    "version": 2
   },
   "file_extension": ".py",
   "mimetype": "text/x-python",
   "name": "python",
   "nbconvert_exporter": "python",
   "pygments_lexer": "ipython2",
   "version": "2.7.11"
  }
 },
 "nbformat": 4,
 "nbformat_minor": 0
}
