{
 "cells": [
  {
   "cell_type": "code",
   "execution_count": 4,
   "metadata": {
    "collapsed": false
   },
   "outputs": [
    {
     "name": "stdout",
     "output_type": "stream",
     "text": [
      "1.5\n"
     ]
    }
   ],
   "source": [
    "x = 3\n",
    "y = 2\n",
    "result = x/y\n",
    "print(result);"
   ]
  },
  {
   "cell_type": "code",
   "execution_count": 3,
   "metadata": {
    "collapsed": false
   },
   "outputs": [
    {
     "name": "stdout",
     "output_type": "stream",
     "text": [
      "1\n"
     ]
    }
   ],
   "source": [
    "mystring = [0,1,2,3,4]\n",
    "print(mystring[1])"
   ]
  },
  {
   "cell_type": "code",
   "execution_count": 5,
   "metadata": {
    "collapsed": false
   },
   "outputs": [
    {
     "name": "stdout",
     "output_type": "stream",
     "text": [
      "1\n"
     ]
    }
   ],
   "source": [
    "myString = \"01234\"\n",
    "print(myString[1])"
   ]
  },
  {
   "cell_type": "code",
   "execution_count": 9,
   "metadata": {
    "collapsed": false
   },
   "outputs": [
    {
     "name": "stdout",
     "output_type": "stream",
     "text": [
      "0123456789\n"
     ]
    }
   ],
   "source": [
    "myString1 = \"01234\"\n",
    "myString2 = \"56789\"\n",
    "combinedString = myString1 + myString2\n",
    "print(combinedString)"
   ]
  },
  {
   "cell_type": "code",
   "execution_count": 10,
   "metadata": {
    "collapsed": false
   },
   "outputs": [
    {
     "ename": "TypeError",
     "evalue": "'str' object does not support item assignment",
     "output_type": "error",
     "traceback": [
      "\u001b[1;31m---------------------------------------------------------------------------\u001b[0m",
      "\u001b[1;31mTypeError\u001b[0m                                 Traceback (most recent call last)",
      "\u001b[1;32m<ipython-input-10-9f81c6b8b76b>\u001b[0m in \u001b[0;36m<module>\u001b[1;34m()\u001b[0m\n\u001b[0;32m      2\u001b[0m \u001b[0mmyString2\u001b[0m \u001b[1;33m=\u001b[0m \u001b[1;34m\"56789\"\u001b[0m\u001b[1;33m\u001b[0m\u001b[0m\n\u001b[0;32m      3\u001b[0m \u001b[0mcombinedString\u001b[0m \u001b[1;33m=\u001b[0m \u001b[0mmyString1\u001b[0m \u001b[1;33m+\u001b[0m \u001b[0mmyString2\u001b[0m\u001b[1;33m\u001b[0m\u001b[0m\n\u001b[1;32m----> 4\u001b[1;33m \u001b[0mcombinedString\u001b[0m\u001b[1;33m[\u001b[0m\u001b[1;36m0\u001b[0m\u001b[1;33m]\u001b[0m \u001b[1;33m=\u001b[0m \u001b[1;34m'a'\u001b[0m\u001b[1;33m\u001b[0m\u001b[0m\n\u001b[0m\u001b[0;32m      5\u001b[0m \u001b[0mprint\u001b[0m\u001b[1;33m(\u001b[0m\u001b[0mcombinedString\u001b[0m\u001b[1;33m)\u001b[0m\u001b[1;33m\u001b[0m\u001b[0m\n",
      "\u001b[1;31mTypeError\u001b[0m: 'str' object does not support item assignment"
     ]
    }
   ],
   "source": [
    "myString1 = \"01234\"\n",
    "myString2 = \"56789\"\n",
    "combinedString = myString1 + myString2\n",
    "combinedString[0] = 'a'\n",
    "print(combinedString)"
   ]
  },
  {
   "cell_type": "code",
   "execution_count": 11,
   "metadata": {
    "collapsed": false
   },
   "outputs": [
    {
     "ename": "TypeError",
     "evalue": "'str' object does not support item assignment",
     "output_type": "error",
     "traceback": [
      "\u001b[1;31m---------------------------------------------------------------------------\u001b[0m",
      "\u001b[1;31mTypeError\u001b[0m                                 Traceback (most recent call last)",
      "\u001b[1;32m<ipython-input-11-0137e2397f45>\u001b[0m in \u001b[0;36m<module>\u001b[1;34m()\u001b[0m\n\u001b[0;32m      2\u001b[0m \u001b[0mmyString2\u001b[0m \u001b[1;33m=\u001b[0m \u001b[1;34m\"56789\"\u001b[0m\u001b[1;33m\u001b[0m\u001b[0m\n\u001b[0;32m      3\u001b[0m \u001b[0mcombinedString\u001b[0m \u001b[1;33m=\u001b[0m \u001b[0mmyString1\u001b[0m \u001b[1;33m+\u001b[0m \u001b[0mmyString2\u001b[0m\u001b[1;33m\u001b[0m\u001b[0m\n\u001b[1;32m----> 4\u001b[1;33m \u001b[0mmyString1\u001b[0m\u001b[1;33m[\u001b[0m\u001b[1;36m0\u001b[0m\u001b[1;33m]\u001b[0m \u001b[1;33m=\u001b[0m \u001b[1;34m'a'\u001b[0m\u001b[1;33m\u001b[0m\u001b[0m\n\u001b[0m\u001b[0;32m      5\u001b[0m \u001b[0mprint\u001b[0m\u001b[1;33m(\u001b[0m\u001b[0mcombinedString\u001b[0m\u001b[1;33m)\u001b[0m\u001b[1;33m\u001b[0m\u001b[0m\n",
      "\u001b[1;31mTypeError\u001b[0m: 'str' object does not support item assignment"
     ]
    }
   ],
   "source": [
    "myString1 = \"01234\"\n",
    "myString2 = \"56789\"\n",
    "combinedString = myString1 + myString2\n",
    "myString1[0] = 'a'\n",
    "print(combinedString)"
   ]
  },
  {
   "cell_type": "code",
   "execution_count": 14,
   "metadata": {
    "collapsed": false,
    "scrolled": true
   },
   "outputs": [
    {
     "name": "stdout",
     "output_type": "stream",
     "text": [
      "0123456789\n",
      "123\n",
      "a123\n"
     ]
    }
   ],
   "source": [
    "myString1 = \"01234\"\n",
    "myString2 = \"56789\"\n",
    "combinedString = myString1 + myString2\n",
    "cutString = combinedString[1:4]\n",
    "aNumbers = 'a' + cutString\n",
    "print(combinedString)\n",
    "print(cutString)\n",
    "print(aNumbers)"
   ]
  },
  {
   "cell_type": "code",
   "execution_count": 27,
   "metadata": {
    "collapsed": false
   },
   "outputs": [
    {
     "ename": "SyntaxError",
     "evalue": "can't delete function call (<ipython-input-27-6f95efffde55>, line 11)",
     "output_type": "error",
     "traceback": [
      "\u001b[1;36m  File \u001b[1;32m\"<ipython-input-27-6f95efffde55>\"\u001b[1;36m, line \u001b[1;32m11\u001b[0m\n\u001b[1;33m    del(friends(0))\u001b[0m\n\u001b[1;37m      ^\u001b[0m\n\u001b[1;31mSyntaxError\u001b[0m\u001b[1;31m:\u001b[0m can't delete function call\n"
     ]
    }
   ],
   "source": [
    "friends = ['Uday', 'John', 'Ashwin', 'Jaya', 'krishna']\n",
    "print(friends)\n",
    "friends.append('Samwise')\n",
    "print(friends)\n",
    "friends2 = ['Bob', 'Joe']\n",
    "print(friends + friends2)\n",
    "friends.remove('Samwise')\n",
    "print(friends)\n",
    "friends.remove(1)\n",
    "print(friends)\n",
    "del(friends(0))\n",
    "print(friends)"
   ]
  },
  {
   "cell_type": "code",
   "execution_count": 37,
   "metadata": {
    "collapsed": false
   },
   "outputs": [
    {
     "name": "stdout",
     "output_type": "stream",
     "text": [
      "['Viv', 'Gavaskar', 'Kapil', 'Sachin', 'Kohli', 'Marshall', 'Richardson']\n",
      "['Viv', 'Gavaskar', 'Kapil', 'Sachin', 'Garner', 'Kohli', 'Marshall', 'Richardson']\n",
      "['Garner', 'Gavaskar', 'Kapil', 'Kohli', 'Marshall', 'Richardson', 'Sachin', 'Viv']\n",
      "1\n",
      "1\n",
      "0\n",
      "['Garner', 'Gavaskar', 'Kapil', 'Kohli', 'Marshall', 'Richardson', 'Sachin']\n",
      "['Sachin', 'Richardson', 'Marshall', 'Kohli', 'Kapil', 'Gavaskar', 'Garner']\n"
     ]
    }
   ],
   "source": [
    "myList = ['Viv', 'Gavaskar', 'Kapil', 'Sachin', 'Kohli']\n",
    "myList.extend(['Marshall', 'Richardson'])\n",
    "print(myList)\n",
    "myList.insert(4, 'Garner')\n",
    "print(myList)\n",
    "myList.sort()\n",
    "print(myList)\n",
    "print(myList.count('Kapil'))\n",
    "print(myList.index('Gavaskar'))\n",
    "print(myList.index('Garner'))\n",
    "myList.pop()\n",
    "print(myList)\n",
    "myList.reverse()\n",
    "print(myList)"
   ]
  },
  {
   "cell_type": "code",
   "execution_count": 38,
   "metadata": {
    "collapsed": false
   },
   "outputs": [
    {
     "name": "stdout",
     "output_type": "stream",
     "text": [
      "{'soma': 94105, 'sunset': 94122, 'marina': 94123, 'presidio': 94129}\n"
     ]
    }
   ],
   "source": [
    "zipCodes = {'sunset':94122, 'presidio':94129, 'soma':94105, 'marina':94123}\n",
    "print(zipCodes)"
   ]
  },
  {
   "cell_type": "code",
   "execution_count": 41,
   "metadata": {
    "collapsed": false
   },
   "outputs": [
    {
     "name": "stdout",
     "output_type": "stream",
     "text": [
      "94123\n"
     ]
    }
   ],
   "source": [
    "zipCodes = {'sunset':94122, 'presidio':94129, 'soma':94105, 'marina':94123}\n",
    "marina = zipCodes['marina']\n",
    "print(marina)"
   ]
  },
  {
   "cell_type": "code",
   "execution_count": 45,
   "metadata": {
    "collapsed": false
   },
   "outputs": [
    {
     "name": "stdout",
     "output_type": "stream",
     "text": [
      "{'soma': 94105, 'sunset': 94122, 'marina': 94123, 'castro': 94114, 'presidio': 94129}\n",
      "{'sunset': 94122, 'marina': 94123, 'castro': 94114, 'presidio': 94129} 94105\n"
     ]
    }
   ],
   "source": [
    "zipCodes = {'sunset':94122, 'presidio':94129, 'soma':94105, 'marina':94123}\n",
    "zipCodes['castro'] = 94114\n",
    "print(zipCodes)\n",
    "popZip = zipCodes.pop('soma')\n",
    "print(zipCodes, popZip)"
   ]
  },
  {
   "cell_type": "code",
   "execution_count": 46,
   "metadata": {
    "collapsed": false
   },
   "outputs": [
    {
     "name": "stdout",
     "output_type": "stream",
     "text": [
      "94122\n",
      "{'soma': 94105, 'sunset': 94122, 'marina': 94123, 'presidio': 94129}\n"
     ]
    }
   ],
   "source": [
    "zipCodes = {'sunset':94122, 'presidio':94129, 'soma':94105, 'marina':94123}\n",
    "sunset = zipCodes.get('sunset')\n",
    "print(sunset)\n",
    "print(zipCodes)"
   ]
  },
  {
   "cell_type": "code",
   "execution_count": 48,
   "metadata": {
    "collapsed": false
   },
   "outputs": [
    {
     "ename": "AttributeError",
     "evalue": "'dict' object has no attribute 'has_key'",
     "output_type": "error",
     "traceback": [
      "\u001b[1;31m---------------------------------------------------------------------------\u001b[0m",
      "\u001b[1;31mAttributeError\u001b[0m                            Traceback (most recent call last)",
      "\u001b[1;32m<ipython-input-48-154c3667e89f>\u001b[0m in \u001b[0;36m<module>\u001b[1;34m()\u001b[0m\n\u001b[0;32m      1\u001b[0m \u001b[0mzipCodes\u001b[0m \u001b[1;33m=\u001b[0m \u001b[1;33m{\u001b[0m\u001b[1;34m'sunset'\u001b[0m\u001b[1;33m:\u001b[0m\u001b[1;36m94122\u001b[0m\u001b[1;33m,\u001b[0m \u001b[1;34m'presidio'\u001b[0m\u001b[1;33m:\u001b[0m\u001b[1;36m94129\u001b[0m\u001b[1;33m,\u001b[0m \u001b[1;34m'soma'\u001b[0m\u001b[1;33m:\u001b[0m\u001b[1;36m94105\u001b[0m\u001b[1;33m,\u001b[0m \u001b[1;34m'marina'\u001b[0m\u001b[1;33m:\u001b[0m\u001b[1;36m94123\u001b[0m\u001b[1;33m}\u001b[0m\u001b[1;33m\u001b[0m\u001b[0m\n\u001b[1;32m----> 2\u001b[1;33m \u001b[0mprint\u001b[0m\u001b[1;33m(\u001b[0m\u001b[0mzipCodes\u001b[0m\u001b[1;33m.\u001b[0m\u001b[0mhas_key\u001b[0m\u001b[1;33m(\u001b[0m\u001b[1;34m'presidio'\u001b[0m\u001b[1;33m)\u001b[0m\u001b[1;33m)\u001b[0m\u001b[1;33m\u001b[0m\u001b[0m\n\u001b[0m",
      "\u001b[1;31mAttributeError\u001b[0m: 'dict' object has no attribute 'has_key'"
     ]
    }
   ],
   "source": [
    "zipCodes = {'sunset':94122, 'presidio':94129, 'soma':94105, 'marina':94123}\n",
    "print(zipCodes.has_key('presidio'))"
   ]
  },
  {
   "cell_type": "code",
   "execution_count": 50,
   "metadata": {
    "collapsed": false
   },
   "outputs": [
    {
     "name": "stdout",
     "output_type": "stream",
     "text": [
      "{'soma': 94105, 'sunset': 94122, 'marina': 94123, 'presidio': 94129}\n"
     ]
    }
   ],
   "source": [
    "zipCodes = {'sunset':94122, 'presidio':94129, 'soma':94105, 'marina':94123}\n",
    "print(zipCodes)"
   ]
  },
  {
   "cell_type": "code",
   "execution_count": null,
   "metadata": {
    "collapsed": true
   },
   "outputs": [],
   "source": []
  }
 ],
 "metadata": {
  "kernelspec": {
   "display_name": "Python 3",
   "language": "python",
   "name": "python3"
  },
  "language_info": {
   "codemirror_mode": {
    "name": "ipython",
    "version": 3
   },
   "file_extension": ".py",
   "mimetype": "text/x-python",
   "name": "python",
   "nbconvert_exporter": "python",
   "pygments_lexer": "ipython3",
   "version": "3.5.1"
  }
 },
 "nbformat": 4,
 "nbformat_minor": 0
}
