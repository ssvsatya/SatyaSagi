{
 "cells": [
  {
   "cell_type": "code",
   "execution_count": 201,
   "metadata": {
    "collapsed": false
   },
   "outputs": [],
   "source": [
    "import urllib2\n",
    "from bs4 import BeautifulSoup\n",
    "import re\n",
    "import requests\n",
    "import pandas as pd\n",
    "\n",
    "url = \"http://www.indeed.com/jobs?q=data+scientist+%2490%2C000+-+%24200%2C000&l={}&start={}\"\n",
    "\n",
    "def extract_text(el):\n",
    "    if el:\n",
    "        return el.text.strip()\n",
    "    else:\n",
    "        return ''\n",
    "    \n",
    "def get_company_from_result(result):\n",
    "    return extract_text(result.find('span', {'class' : 'company'}))\n",
    "\n",
    "def get_location_from_result(result):\n",
    "    return  extract_text(result.find('span', {'class' : 'location'}))\n",
    "\n",
    "def get_summary_from_result(result):\n",
    "    return  extract_text(result.find('span', {'class' : 'summary'}))\n",
    "\n",
    "def get_title_from_result(result):\n",
    "    return result.find('a', {'data-tn-element' : 'jobTitle'}).text.strip()\n",
    "\n",
    "def get_salary_from_result(result):\n",
    "    salary_table = result.find('td', {'class' : 'snip'})\n",
    "    if salary_table:\n",
    "        snip = salary_table.find('nobr')\n",
    "        if snip:\n",
    "            return snip.text.strip()\n",
    "        \n",
    "    return None\n",
    "    \n",
    "#data = pd.DataFrame()\n",
    "\n",
    "rows = []\n",
    "\n",
    "for city in set(['New+York', 'Chicago', 'San+Francisco', 'Austin', 'Seattle']):\n",
    "    for start in range(1, 500, 10):\n",
    "        r = requests.get(url.format(city, start))\n",
    "        soup = BeautifulSoup(r.content,\"lxml\")\n",
    "        results = soup.findAll('div', { \"class\" : \"result\" })\n",
    "        for result in results:\n",
    "            if result:\n",
    "                row = {}\n",
    "                row['title'] = get_title_from_result(result)\n",
    "                row['company'] = get_company_from_result(result)\n",
    "                row['summary'] = get_summary_from_result(result)\n",
    "                row['salary'] = get_salary_from_result(result)\n",
    "                row['city'] = city\n",
    "                rows.append(row)\n",
    "\n",
    "\n",
    "data = pd.DataFrame.from_records(rows)\n",
    "\n"
   ]
  },
  {
   "cell_type": "code",
   "execution_count": 209,
   "metadata": {
    "collapsed": false
   },
   "outputs": [],
   "source": [
    "\n",
    "data.to_csv(\"../assets/indeed.csv\", encoding='utf-8')"
   ]
  },
  {
   "cell_type": "code",
   "execution_count": 333,
   "metadata": {
    "collapsed": false
   },
   "outputs": [],
   "source": [
    "salary_data = pd.read_csv(\"../assets/indeed.csv\")\n",
    "#salary_data = pd.ataf\n",
    "salary_data = data[data.salary.notnull()]\n",
    "salary_data = salary_data[~(salary_data.salary.astype('str').str.contains('hour'))]"
   ]
  },
  {
   "cell_type": "code",
   "execution_count": 334,
   "metadata": {
    "collapsed": false
   },
   "outputs": [],
   "source": [
    "import numpy as np \n",
    "def cleanSalaryColumn(salary):\n",
    "    badChars = ['a year','a month', \" \", \"$\", \"a\",\",\",\"dy\"]\n",
    "    string = salary\n",
    "    for x in badChars:\n",
    "        string = string.replace(x,\"\")\n",
    "    return string\n",
    "\n",
    "def findBound(salary,boundIndex):\n",
    "    if (salary == np.nan) | (salary == None):\n",
    "        return salary\n",
    "    else:\n",
    "        if  \"-\" in salary:\n",
    "            return salary.split(\"-\")[boundIndex]\n",
    "        return salary\n",
    "\n",
    "salary_data['salary_as_num'] = salary_data.salary.apply(cleanSalaryColumn)\n",
    "salary_data['salary_ub'] = salary_data.salary_as_num.apply( lambda x: findBound(x,1) ).astype(float)\n",
    "salary_data['salary_lb'] = salary_data.salary_as_num.apply( lambda x: findBound(x,0) ).astype(float)\n"
   ]
  },
  {
   "cell_type": "code",
   "execution_count": 335,
   "metadata": {
    "collapsed": false
   },
   "outputs": [
    {
     "name": "stdout",
     "output_type": "stream",
     "text": [
      "Index([u'city', u'company', u'salary', u'summary', u'title', u'salary_as_num',\n",
      "       u'salary_ub', u'salary_lb'],\n",
      "      dtype='object')\n"
     ]
    }
   ],
   "source": [
    "print salary_data.columns"
   ]
  },
  {
   "cell_type": "code",
   "execution_count": 336,
   "metadata": {
    "collapsed": false
   },
   "outputs": [],
   "source": [
    "def getClass(x,threshold):\n",
    "    ub = x[6]\n",
    "    lb = x[7]\n",
    "    \n",
    "    avg = float( ub + lb ) / 2\n",
    "    if avg >= threshold:\n",
    "        return 1\n",
    "    else:\n",
    "        return 0\n",
    "    \n",
    "def binOccupation(title):\n",
    "    title = title.lower()\n",
    "    \n",
    "    finalBin = 0\n",
    "    if 'scientist' in title:\n",
    "        finalBin =  1\n",
    "    if 'engineer' in title:\n",
    "        finalBin =  2\n",
    "    if 'product' in title:\n",
    "        finalBin =  3\n",
    "    if 'stat' in title:\n",
    "        finalBin =  4\n",
    "    if 'analyst' in title:\n",
    "        finalBin =  5\n",
    "    if ('software engineer' in title) | ('developer' in title):\n",
    "        finalBin =  6\n",
    "    return finalBin\n",
    "\n",
    "def binSeniority(title):\n",
    "    title = title.lower()\n",
    "    \n",
    "    finalBin = 0\n",
    "    if ('sr' in title) | ('senior' in title):\n",
    "        finalBin = 1\n",
    "    if ('jr' in title) | ('junior' in title):\n",
    "        finalBin = 2\n",
    "    if('mgr' in title) | ('manager' in title):\n",
    "        finalBin = 3\n",
    "    if('associate' in title) | ('ass' in title) | ('mid' in title):\n",
    "        finalBin = 4\n",
    "    if 'vp' in title:\n",
    "        finalBin = 5\n",
    "    if 'lead' in title:\n",
    "        finalBin = 6\n",
    "    if 'director' in title:\n",
    "        finalBin = 7\n",
    "    return finalBin\n",
    "        \n",
    "salary_data['occupationGrp'] = salary_data.title.apply(binOccupation)\n",
    "salary_data['seniorityGrp'] = salary_data.title.apply(binSeniority)\n",
    "salary_data['class'] = salary_data.apply( lambda x: getClass(x,130000), axis = 1 )\n",
    "        \n",
    "\n",
    "\n"
   ]
  },
  {
   "cell_type": "code",
   "execution_count": 337,
   "metadata": {
    "collapsed": false
   },
   "outputs": [
    {
     "name": "stdout",
     "output_type": "stream",
     "text": [
      "Index([u'city', u'company', u'salary', u'summary', u'title', u'salary_as_num',\n",
      "       u'salary_ub', u'salary_lb', u'occupationGrp', u'seniorityGrp',\n",
      "       u'class'],\n",
      "      dtype='object')\n"
     ]
    }
   ],
   "source": [
    "print salary_data.columns"
   ]
  },
  {
   "cell_type": "code",
   "execution_count": 338,
   "metadata": {
    "collapsed": false
   },
   "outputs": [
    {
     "name": "stdout",
     "output_type": "stream",
     "text": [
      "Index([u'occupationGrp', u'seniorityGrp', u'class'], dtype='object')\n"
     ]
    }
   ],
   "source": [
    "colsToKeep = salary_data.columns[8:]\n",
    "print colsToKeep"
   ]
  },
  {
   "cell_type": "code",
   "execution_count": 343,
   "metadata": {
    "collapsed": false
   },
   "outputs": [
    {
     "name": "stdout",
     "output_type": "stream",
     "text": [
      "class\n"
     ]
    }
   ],
   "source": [
    "cleanDf = salary_data[colsToKeep]\n",
    "dummies1 = pd.get_dummies(cleanDf.occupationGrp, prefix = \"occupation\")\n",
    "dummies2 = pd.get_dummies(cleanDf.seniorityGrp, prefix = \"seniority\")\n",
    "join1 = cleanDf[ [cleanDf.columns[2]] ].join(dummies1)\n",
    "join2 = join1.join(dummies2)\n",
    "print cleanDf.columns[2]"
   ]
  },
  {
   "cell_type": "code",
   "execution_count": null,
   "metadata": {
    "collapsed": true
   },
   "outputs": [],
   "source": []
  }
 ],
 "metadata": {
  "kernelspec": {
   "display_name": "Python 2",
   "language": "python",
   "name": "python2"
  },
  "language_info": {
   "codemirror_mode": {
    "name": "ipython",
    "version": 2
   },
   "file_extension": ".py",
   "mimetype": "text/x-python",
   "name": "python",
   "nbconvert_exporter": "python",
   "pygments_lexer": "ipython2",
   "version": "2.7.11"
  }
 },
 "nbformat": 4,
 "nbformat_minor": 0
}
